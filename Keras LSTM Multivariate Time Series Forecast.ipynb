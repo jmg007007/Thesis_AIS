{
 "cells": [
  {
   "cell_type": "code",
   "execution_count": 1,
   "metadata": {},
   "outputs": [
    {
     "name": "stderr",
     "output_type": "stream",
     "text": [
      "Using TensorFlow backend.\n",
      "/anaconda3/lib/python3.6/importlib/_bootstrap.py:219: RuntimeWarning: compiletime version 3.5 of module 'tensorflow.python.framework.fast_tensor_util' does not match runtime version 3.6\n",
      "  return f(*args, **kwds)\n"
     ]
    },
    {
     "name": "stdout",
     "output_type": "stream",
     "text": [
      "/Users/jasongangel/Downloads/AIS/data/503000370_clip_NSIDC_EASE.csv\n",
      "/Users/jasongangel/Downloads/AIS/data/output.csv\n"
     ]
    },
    {
     "data": {
      "text/html": [
       "<div>\n",
       "<style>\n",
       "    .dataframe thead tr:only-child th {\n",
       "        text-align: right;\n",
       "    }\n",
       "\n",
       "    .dataframe thead th {\n",
       "        text-align: left;\n",
       "    }\n",
       "\n",
       "    .dataframe tbody tr th {\n",
       "        vertical-align: top;\n",
       "    }\n",
       "</style>\n",
       "<table border=\"1\" class=\"dataframe\">\n",
       "  <thead>\n",
       "    <tr style=\"text-align: right;\">\n",
       "      <th></th>\n",
       "      <th>PERIOD</th>\n",
       "      <th>LAT</th>\n",
       "      <th>LON</th>\n",
       "      <th>SPEED_KNOT</th>\n",
       "      <th>COG_DEG</th>\n",
       "    </tr>\n",
       "  </thead>\n",
       "  <tbody>\n",
       "    <tr>\n",
       "      <th>0</th>\n",
       "      <td>2016-01-08 12:00:00</td>\n",
       "      <td>-43.037380</td>\n",
       "      <td>147.27762</td>\n",
       "      <td>0.0</td>\n",
       "      <td>306</td>\n",
       "    </tr>\n",
       "    <tr>\n",
       "      <th>1</th>\n",
       "      <td>2016-01-08 13:50:00</td>\n",
       "      <td>-43.037395</td>\n",
       "      <td>147.27760</td>\n",
       "      <td>0.0</td>\n",
       "      <td>191</td>\n",
       "    </tr>\n",
       "    <tr>\n",
       "      <th>2</th>\n",
       "      <td>2016-01-08 13:55:00</td>\n",
       "      <td>-43.037388</td>\n",
       "      <td>147.27760</td>\n",
       "      <td>0.0</td>\n",
       "      <td>191</td>\n",
       "    </tr>\n",
       "    <tr>\n",
       "      <th>3</th>\n",
       "      <td>2016-01-08 14:20:00</td>\n",
       "      <td>-43.037415</td>\n",
       "      <td>147.27762</td>\n",
       "      <td>0.0</td>\n",
       "      <td>280</td>\n",
       "    </tr>\n",
       "    <tr>\n",
       "      <th>4</th>\n",
       "      <td>2016-01-08 14:25:00</td>\n",
       "      <td>-43.037410</td>\n",
       "      <td>147.27762</td>\n",
       "      <td>0.0</td>\n",
       "      <td>280</td>\n",
       "    </tr>\n",
       "  </tbody>\n",
       "</table>\n",
       "</div>"
      ],
      "text/plain": [
       "               PERIOD        LAT        LON  SPEED_KNOT  COG_DEG\n",
       "0 2016-01-08 12:00:00 -43.037380  147.27762         0.0      306\n",
       "1 2016-01-08 13:50:00 -43.037395  147.27760         0.0      191\n",
       "2 2016-01-08 13:55:00 -43.037388  147.27760         0.0      191\n",
       "3 2016-01-08 14:20:00 -43.037415  147.27762         0.0      280\n",
       "4 2016-01-08 14:25:00 -43.037410  147.27762         0.0      280"
      ]
     },
     "execution_count": 1,
     "metadata": {},
     "output_type": "execute_result"
    }
   ],
   "source": [
    "from math import sqrt\n",
    "from numpy import concatenate\n",
    "from matplotlib import pyplot\n",
    "import pandas as pd\n",
    "from sklearn.preprocessing import MinMaxScaler\n",
    "from sklearn.preprocessing import LabelEncoder\n",
    "from sklearn.metrics import mean_squared_error\n",
    "from keras.models import Sequential\n",
    "from keras.layers import Dense\n",
    "from keras.layers import LSTM\n",
    "import random\n",
    "import os\n",
    "\n",
    "#Convert a Time Series to a Supervised Learning Problem \n",
    "from pandas import DataFrame\n",
    "from pandas import concat\n",
    "\n",
    "def series_to_supervised(data, n_in=1, n_out=1, dropnan=True):\n",
    "    \"\"\"\n",
    "    Frame a time series as a supervised learning dataset.\n",
    "    Arguments:\n",
    "        data: Sequence of observations as a list or NumPy array.\n",
    "        n_in: Number of lag observations as input (X).\n",
    "        n_out: Number of observations as output (y).\n",
    "        dropnan: Boolean whether or not to drop rows with NaN values.\n",
    "    Returns:\n",
    "        Pandas DataFrame of series framed for supervised learning.\n",
    "    \"\"\"\n",
    "    n_vars = 1 if type(data) is list else data.shape[1]\n",
    "    df = DataFrame(data)\n",
    "    cols, names = list(), list()\n",
    "    # input sequence (t-n, ... t-1)\n",
    "    for i in range(n_in, 0, -1):\n",
    "        cols.append(df.shift(i))\n",
    "        names += [('var%d(t-%d)' % (j+1, i)) for j in range(n_vars)]\n",
    "    # forecast sequence (t, t+1, ... t+n)\n",
    "    for i in range(0, n_out):\n",
    "        cols.append(df.shift(-i))\n",
    "        if i == 0:\n",
    "            names += [('var%d(t)' % (j+1)) for j in range(n_vars)]\n",
    "        else:\n",
    "            names += [('var%d(t+%d)' % (j+1, i)) for j in range(n_vars)]\n",
    "    # put it all together\n",
    "    agg = concat(cols, axis=1)\n",
    "    agg.columns = names\n",
    "    # drop rows with NaN values\n",
    "    if dropnan:\n",
    "        agg.dropna(inplace=True)\n",
    "    return agg\n",
    "\n",
    "\n",
    "path = '/Users/jasongangel/Downloads/AIS/data'\n",
    "filename_read = os.path.join(path, '503000370_clip_NSIDC_EASE.csv')\n",
    "filename_write = os.path.join(path, 'output.csv')\n",
    "\n",
    "print(filename_read)\n",
    "print(filename_write)\n",
    "\n",
    "dataset = pd.read_csv(filename_read, usecols=['PERIOD', 'LAT', 'LON', 'SPEED_KNOT', 'COG_DEG'], parse_dates=['PERIOD'])\n",
    "\n",
    "dataset.head()"
   ]
  },
  {
   "cell_type": "code",
   "execution_count": 2,
   "metadata": {},
   "outputs": [],
   "source": [
    "#CONVERT PERIOD TO UNIX\n",
    "dataset['UNX'] = dataset['PERIOD'].astype('int64')//10**9"
   ]
  },
  {
   "cell_type": "code",
   "execution_count": 3,
   "metadata": {},
   "outputs": [],
   "source": [
    "#Transform Coordinates to NSIDC EASE-Grid Global (http://nsidc.org/data/ease)\n",
    "import shapefile\n",
    "import pyproj\n",
    "\n",
    "inProj = pyproj.Proj(init='epsg:4326')\n",
    "outProj = pyproj.Proj(init='epsg:3410')\n",
    "\n",
    "def convertCoords(row):\n",
    "    x2,y2 = pyproj.transform(inProj,outProj,row['LON'],row['LAT'])\n",
    "   \n",
    "    return pd.Series({'EASE_LON':x2,'EASE_LAT':y2})\n",
    "\n",
    "dataset = dataset.join(dataset.apply(convertCoords, axis=1))"
   ]
  },
  {
   "cell_type": "code",
   "execution_count": 5,
   "metadata": {},
   "outputs": [],
   "source": [
    "#Drop original LAT LON and PERIOD and re-sort Columns\n",
    "dataset = dataset.drop(['LAT','LON','PERIOD'], axis=1)\n",
    "dataset = dataset[['UNX', 'EASE_LAT', 'EASE_LON', 'COG_DEG', 'SPEED_KNOT']]"
   ]
  },
  {
   "cell_type": "code",
   "execution_count": 6,
   "metadata": {},
   "outputs": [
    {
     "data": {
      "text/html": [
       "<div>\n",
       "<style>\n",
       "    .dataframe thead tr:only-child th {\n",
       "        text-align: right;\n",
       "    }\n",
       "\n",
       "    .dataframe thead th {\n",
       "        text-align: left;\n",
       "    }\n",
       "\n",
       "    .dataframe tbody tr th {\n",
       "        vertical-align: top;\n",
       "    }\n",
       "</style>\n",
       "<table border=\"1\" class=\"dataframe\">\n",
       "  <thead>\n",
       "    <tr style=\"text-align: right;\">\n",
       "      <th></th>\n",
       "      <th>UNX</th>\n",
       "      <th>EASE_LAT</th>\n",
       "      <th>EASE_LON</th>\n",
       "      <th>COG_DEG</th>\n",
       "      <th>SPEED_KNOT</th>\n",
       "    </tr>\n",
       "  </thead>\n",
       "  <tbody>\n",
       "    <tr>\n",
       "      <th>0</th>\n",
       "      <td>1452254400</td>\n",
       "      <td>-5.020876e+06</td>\n",
       "      <td>1.418299e+07</td>\n",
       "      <td>306</td>\n",
       "      <td>0.0</td>\n",
       "    </tr>\n",
       "    <tr>\n",
       "      <th>1</th>\n",
       "      <td>1452261000</td>\n",
       "      <td>-5.020877e+06</td>\n",
       "      <td>1.418299e+07</td>\n",
       "      <td>191</td>\n",
       "      <td>0.0</td>\n",
       "    </tr>\n",
       "    <tr>\n",
       "      <th>2</th>\n",
       "      <td>1452261300</td>\n",
       "      <td>-5.020877e+06</td>\n",
       "      <td>1.418299e+07</td>\n",
       "      <td>191</td>\n",
       "      <td>0.0</td>\n",
       "    </tr>\n",
       "    <tr>\n",
       "      <th>3</th>\n",
       "      <td>1452262800</td>\n",
       "      <td>-5.020879e+06</td>\n",
       "      <td>1.418299e+07</td>\n",
       "      <td>280</td>\n",
       "      <td>0.0</td>\n",
       "    </tr>\n",
       "    <tr>\n",
       "      <th>4</th>\n",
       "      <td>1452263100</td>\n",
       "      <td>-5.020879e+06</td>\n",
       "      <td>1.418299e+07</td>\n",
       "      <td>280</td>\n",
       "      <td>0.0</td>\n",
       "    </tr>\n",
       "  </tbody>\n",
       "</table>\n",
       "</div>"
      ],
      "text/plain": [
       "          UNX      EASE_LAT      EASE_LON  COG_DEG  SPEED_KNOT\n",
       "0  1452254400 -5.020876e+06  1.418299e+07      306         0.0\n",
       "1  1452261000 -5.020877e+06  1.418299e+07      191         0.0\n",
       "2  1452261300 -5.020877e+06  1.418299e+07      191         0.0\n",
       "3  1452262800 -5.020879e+06  1.418299e+07      280         0.0\n",
       "4  1452263100 -5.020879e+06  1.418299e+07      280         0.0"
      ]
     },
     "execution_count": 6,
     "metadata": {},
     "output_type": "execute_result"
    }
   ],
   "source": [
    "dataset.head()"
   ]
  },
  {
   "cell_type": "markdown",
   "metadata": {},
   "source": [
    "# Reframe and Normalize"
   ]
  },
  {
   "cell_type": "code",
   "execution_count": 26,
   "metadata": {},
   "outputs": [],
   "source": [
    "# specify the number of lag hours\n",
    "n_posit = 1\n",
    "n_features = 5"
   ]
  },
  {
   "cell_type": "code",
   "execution_count": 27,
   "metadata": {},
   "outputs": [
    {
     "data": {
      "text/plain": [
       "(122094, 10)"
      ]
     },
     "execution_count": 27,
     "metadata": {},
     "output_type": "execute_result"
    }
   ],
   "source": [
    "# frame as supervised learning\n",
    "reframed = series_to_supervised(dataset, n_posit)\n",
    "reframed.shape"
   ]
  },
  {
   "cell_type": "code",
   "execution_count": 32,
   "metadata": {},
   "outputs": [
    {
     "data": {
      "text/html": [
       "<div>\n",
       "<style>\n",
       "    .dataframe thead tr:only-child th {\n",
       "        text-align: right;\n",
       "    }\n",
       "\n",
       "    .dataframe thead th {\n",
       "        text-align: left;\n",
       "    }\n",
       "\n",
       "    .dataframe tbody tr th {\n",
       "        vertical-align: top;\n",
       "    }\n",
       "</style>\n",
       "<table border=\"1\" class=\"dataframe\">\n",
       "  <thead>\n",
       "    <tr style=\"text-align: right;\">\n",
       "      <th></th>\n",
       "      <th>var1(t-1)</th>\n",
       "      <th>var2(t-1)</th>\n",
       "      <th>var3(t-1)</th>\n",
       "      <th>var4(t-1)</th>\n",
       "      <th>var5(t-1)</th>\n",
       "      <th>var1(t)</th>\n",
       "      <th>var2(t)</th>\n",
       "      <th>var3(t)</th>\n",
       "      <th>var4(t)</th>\n",
       "      <th>var5(t)</th>\n",
       "    </tr>\n",
       "  </thead>\n",
       "  <tbody>\n",
       "    <tr>\n",
       "      <th>1</th>\n",
       "      <td>1.452254e+09</td>\n",
       "      <td>-5020876.0</td>\n",
       "      <td>14182993.0</td>\n",
       "      <td>306.0</td>\n",
       "      <td>0.0</td>\n",
       "      <td>1.452261e+09</td>\n",
       "      <td>-5020877.5</td>\n",
       "      <td>14182992.0</td>\n",
       "      <td>191.0</td>\n",
       "      <td>0.0</td>\n",
       "    </tr>\n",
       "    <tr>\n",
       "      <th>2</th>\n",
       "      <td>1.452261e+09</td>\n",
       "      <td>-5020877.5</td>\n",
       "      <td>14182992.0</td>\n",
       "      <td>191.0</td>\n",
       "      <td>0.0</td>\n",
       "      <td>1.452261e+09</td>\n",
       "      <td>-5020876.5</td>\n",
       "      <td>14182992.0</td>\n",
       "      <td>191.0</td>\n",
       "      <td>0.0</td>\n",
       "    </tr>\n",
       "    <tr>\n",
       "      <th>3</th>\n",
       "      <td>1.452261e+09</td>\n",
       "      <td>-5020876.5</td>\n",
       "      <td>14182992.0</td>\n",
       "      <td>191.0</td>\n",
       "      <td>0.0</td>\n",
       "      <td>1.452263e+09</td>\n",
       "      <td>-5020879.0</td>\n",
       "      <td>14182993.0</td>\n",
       "      <td>280.0</td>\n",
       "      <td>0.0</td>\n",
       "    </tr>\n",
       "    <tr>\n",
       "      <th>4</th>\n",
       "      <td>1.452263e+09</td>\n",
       "      <td>-5020879.0</td>\n",
       "      <td>14182993.0</td>\n",
       "      <td>280.0</td>\n",
       "      <td>0.0</td>\n",
       "      <td>1.452263e+09</td>\n",
       "      <td>-5020878.5</td>\n",
       "      <td>14182993.0</td>\n",
       "      <td>280.0</td>\n",
       "      <td>0.0</td>\n",
       "    </tr>\n",
       "    <tr>\n",
       "      <th>5</th>\n",
       "      <td>1.452263e+09</td>\n",
       "      <td>-5020878.5</td>\n",
       "      <td>14182993.0</td>\n",
       "      <td>280.0</td>\n",
       "      <td>0.0</td>\n",
       "      <td>1.452264e+09</td>\n",
       "      <td>-5020880.0</td>\n",
       "      <td>14182994.0</td>\n",
       "      <td>342.0</td>\n",
       "      <td>0.0</td>\n",
       "    </tr>\n",
       "  </tbody>\n",
       "</table>\n",
       "</div>"
      ],
      "text/plain": [
       "      var1(t-1)  var2(t-1)   var3(t-1)  var4(t-1)  var5(t-1)       var1(t)  \\\n",
       "1  1.452254e+09 -5020876.0  14182993.0      306.0        0.0  1.452261e+09   \n",
       "2  1.452261e+09 -5020877.5  14182992.0      191.0        0.0  1.452261e+09   \n",
       "3  1.452261e+09 -5020876.5  14182992.0      191.0        0.0  1.452263e+09   \n",
       "4  1.452263e+09 -5020879.0  14182993.0      280.0        0.0  1.452263e+09   \n",
       "5  1.452263e+09 -5020878.5  14182993.0      280.0        0.0  1.452264e+09   \n",
       "\n",
       "     var2(t)     var3(t)  var4(t)  var5(t)  \n",
       "1 -5020877.5  14182992.0    191.0      0.0  \n",
       "2 -5020876.5  14182992.0    191.0      0.0  \n",
       "3 -5020879.0  14182993.0    280.0      0.0  \n",
       "4 -5020878.5  14182993.0    280.0      0.0  \n",
       "5 -5020880.0  14182994.0    342.0      0.0  "
      ]
     },
     "execution_count": 32,
     "metadata": {},
     "output_type": "execute_result"
    }
   ],
   "source": [
    "reframed.head()"
   ]
  },
  {
   "cell_type": "code",
   "execution_count": 39,
   "metadata": {},
   "outputs": [
    {
     "data": {
      "text/plain": [
       "pandas.core.frame.DataFrame"
      ]
     },
     "execution_count": 39,
     "metadata": {},
     "output_type": "execute_result"
    }
   ],
   "source": [
    "#ensure all data is float\n",
    "reframed = reframed.astype('float32')\n",
    "type(reframed)"
   ]
  },
  {
   "cell_type": "code",
   "execution_count": 42,
   "metadata": {},
   "outputs": [],
   "source": [
    "#Standardize Dataframe\n",
    "import scipy\n",
    "from sklearn.preprocessing import StandardScaler\n",
    "scaler = StandardScaler()\n",
    "values = scaler.fit_transform(reframed)"
   ]
  },
  {
   "cell_type": "markdown",
   "metadata": {},
   "source": [
    "# Split and Reshape"
   ]
  },
  {
   "cell_type": "code",
   "execution_count": 43,
   "metadata": {},
   "outputs": [],
   "source": [
    "# split into train and test sets\n",
    "n_train_hours = 109886\n",
    "train = values[:n_train_hours, :]\n",
    "test = values[n_train_hours:, :]"
   ]
  },
  {
   "cell_type": "code",
   "execution_count": 44,
   "metadata": {},
   "outputs": [
    {
     "name": "stdout",
     "output_type": "stream",
     "text": [
      "(109886, 5) 109886 (109886,)\n"
     ]
    }
   ],
   "source": [
    "# split into input and outputs\n",
    "n_obs = n_posit * n_features\n",
    "train_X, train_y = train[:, :n_obs], train[:, -n_features]\n",
    "test_X, test_y = test[:, :n_obs], test[:, -n_features]\n",
    "print(train_X.shape, len(train_X), train_y.shape)"
   ]
  },
  {
   "cell_type": "code",
   "execution_count": 45,
   "metadata": {},
   "outputs": [
    {
     "name": "stdout",
     "output_type": "stream",
     "text": [
      "(109886, 1, 5) (109886,) (12208, 1, 5) (12208,)\n"
     ]
    }
   ],
   "source": [
    "# reshape input to be 3D [samples, timesteps, features]\n",
    "train_X = train_X.reshape((train_X.shape[0], n_posit, n_features))\n",
    "test_X = test_X.reshape((test_X.shape[0], n_posit, n_features))\n",
    "print(train_X.shape, train_y.shape, test_X.shape, test_y.shape)"
   ]
  },
  {
   "cell_type": "markdown",
   "metadata": {},
   "source": [
    "# Design the Network"
   ]
  },
  {
   "cell_type": "code",
   "execution_count": null,
   "metadata": {},
   "outputs": [],
   "source": [
    "# design network\n",
    "model = Sequential()\n",
    "model.add(LSTM(50, input_shape=(train_X.shape[1], train_X.shape[2])))\n",
    "model.add(Dense(1))\n",
    "model.compile(loss='mae', optimizer='adam')"
   ]
  },
  {
   "cell_type": "code",
   "execution_count": null,
   "metadata": {},
   "outputs": [],
   "source": [
    "# fit network\n",
    "history = model.fit(train_X, train_y, epochs=50, batch_size=72, validation_data=(test_X, test_y), verbose=2, shuffle=False)"
   ]
  },
  {
   "cell_type": "code",
   "execution_count": null,
   "metadata": {},
   "outputs": [],
   "source": [
    "# plot history\n",
    "pyplot.plot(history.history['loss'], label='train')\n",
    "pyplot.plot(history.history['val_loss'], label='test')\n",
    "pyplot.legend()\n",
    "pyplot.show()"
   ]
  },
  {
   "cell_type": "code",
   "execution_count": null,
   "metadata": {},
   "outputs": [],
   "source": [
    "# make a prediction\n",
    "yhat = model.predict(test_X)\n",
    "test_X = test_X.reshape((test_X.shape[0], n_hours*n_features))"
   ]
  },
  {
   "cell_type": "code",
   "execution_count": null,
   "metadata": {},
   "outputs": [],
   "source": [
    "# invert scaling for forecast\n",
    "inv_yhat = concatenate((yhat, test_X[:, -7:]), axis=1)\n",
    "inv_yhat = scaler.inverse_transform(inv_yhat)\n",
    "inv_yhat = inv_yhat[:,0]"
   ]
  },
  {
   "cell_type": "code",
   "execution_count": null,
   "metadata": {},
   "outputs": [],
   "source": [
    "# invert scaling for actual\n",
    "test_y = test_y.reshape((len(test_y), 1))\n",
    "inv_y = concatenate((test_y, test_X[:, -7:]), axis=1)\n",
    "inv_y = scaler.inverse_transform(inv_y)\n",
    "inv_y = inv_y[:,0]"
   ]
  },
  {
   "cell_type": "code",
   "execution_count": null,
   "metadata": {},
   "outputs": [],
   "source": [
    "# calculate RMSE\n",
    "rmse = sqrt(mean_squared_error(inv_y, inv_yhat))\n",
    "print('Test RMSE: %.3f' % rmse)"
   ]
  }
 ],
 "metadata": {
  "kernelspec": {
   "display_name": "Python [conda env:anaconda3]",
   "language": "python",
   "name": "conda-env-anaconda3-py"
  },
  "language_info": {
   "codemirror_mode": {
    "name": "ipython",
    "version": 3
   },
   "file_extension": ".py",
   "mimetype": "text/x-python",
   "name": "python",
   "nbconvert_exporter": "python",
   "pygments_lexer": "ipython3",
   "version": "3.6.3"
  }
 },
 "nbformat": 4,
 "nbformat_minor": 2
}
