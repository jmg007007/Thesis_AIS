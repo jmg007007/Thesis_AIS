{
  "nbformat": 4,
  "nbformat_minor": 0,
  "metadata": {
    "colab": {
      "name": "Keras LSTM Multivariate Time Series Forecast.ipynb",
      "version": "0.3.2",
      "provenance": [],
      "collapsed_sections": [],
      "toc_visible": true
    },
    "kernelspec": {
      "name": "python3",
      "display_name": "Python 3"
    },
    "accelerator": "GPU"
  },
  "cells": [
    {
      "cell_type": "markdown",
      "metadata": {
        "id": "view-in-github",
        "colab_type": "text"
      },
      "source": [
        "[View in Colaboratory](https://colab.research.google.com/github/jmg007007/Thesis_AIS/blob/master/Keras_LSTM_Multivariate_Time_Series_Forecast.ipynb)"
      ]
    },
    {
      "metadata": {
        "id": "hv360bSzqJ8c",
        "colab_type": "text"
      },
      "cell_type": "markdown",
      "source": [
        "Website that I took the baseline code from:\n",
        "\n",
        "https://machinelearningmastery.com/multivariate-time-series-forecasting-lstms-keras/"
      ]
    },
    {
      "metadata": {
        "id": "P7KTuUBap26P",
        "colab_type": "text"
      },
      "cell_type": "markdown",
      "source": [
        "# Imports"
      ]
    },
    {
      "metadata": {
        "id": "qmNKwoDPNGxs",
        "colab_type": "code",
        "colab": {}
      },
      "cell_type": "code",
      "source": [
        "#Run Cell to upload local files\n",
        "from google.colab import files\n",
        "\n",
        "uploaded = files.upload()\n",
        "\n",
        "for fn in uploaded.keys():\n",
        "  print('User uploaded file \"{name}\" with length {length} bytes'.format(\n",
        "      name=fn, length=len(uploaded[fn])))"
      ],
      "execution_count": 0,
      "outputs": []
    },
    {
      "metadata": {
        "id": "8fbR8V7ZKs03",
        "colab_type": "code",
        "colab": {
          "base_uri": "https://localhost:8080/",
          "height": 221
        },
        "outputId": "6a1c79d6-8908-4b3f-954f-1eb8780e3c45"
      },
      "cell_type": "code",
      "source": [
        "from math import sqrt\n",
        "from numpy import concatenate\n",
        "from matplotlib import pyplot\n",
        "import pandas as pd\n",
        "from sklearn.preprocessing import MinMaxScaler\n",
        "from sklearn.preprocessing import LabelEncoder\n",
        "from sklearn.metrics import mean_squared_error\n",
        "from keras.models import Sequential\n",
        "from keras.layers import Dense\n",
        "from keras.layers import LSTM\n",
        "import random\n",
        "import os\n",
        "from pandas import DataFrame\n",
        "from pandas import concat\n",
        "\n",
        "def series_to_supervised(data, n_in=1, n_out=1, dropnan=True):\n",
        "    \"\"\"\n",
        "    Frame a time series as a supervised learning dataset.\n",
        "    Arguments:\n",
        "        data: Sequence of observations as a list or NumPy array.\n",
        "        n_in: Number of lag observations as input (X).\n",
        "        n_out: Number of observations as output (y).\n",
        "        dropnan: Boolean whether or not to drop rows with NaN values.\n",
        "    Returns:\n",
        "        Pandas DataFrame of series framed for supervised learning.\n",
        "    \"\"\"\n",
        "    n_vars = 1 if type(data) is list else data.shape[1]\n",
        "    df = DataFrame(data)\n",
        "    cols, names = list(), list()\n",
        "    # input sequence (t-n, ... t-1)\n",
        "    for i in range(n_in, 0, -1):\n",
        "        cols.append(df.shift(i))\n",
        "        names += [('var%d(t-%d)' % (j+1, i)) for j in range(n_vars)]\n",
        "    # forecast sequence (t, t+1, ... t+n)\n",
        "    for i in range(0, n_out):\n",
        "        cols.append(df.shift(-i))\n",
        "        if i == 0:\n",
        "            names += [('var%d(t)' % (j+1)) for j in range(n_vars)]\n",
        "        else:\n",
        "            names += [('var%d(t+%d)' % (j+1, i)) for j in range(n_vars)]\n",
        "    # put it all together\n",
        "    agg = concat(cols, axis=1)\n",
        "    agg.columns = names\n",
        "    # drop rows with NaN values\n",
        "    if dropnan:\n",
        "        agg.dropna(inplace=True)\n",
        "    return agg\n",
        "\n",
        "\n",
        "dataset = pd.read_csv('503000370_clip_NSIDC_EASE_Min_Max.csv', usecols = ['UNX','EASE_LAT','EASE_LON','COG_DEG','SPEED_KNOT'])\n",
        "\n",
        "dataset.head()"
      ],
      "execution_count": 1,
      "outputs": [
        {
          "output_type": "stream",
          "text": [
            "Using TensorFlow backend.\n"
          ],
          "name": "stderr"
        },
        {
          "output_type": "execute_result",
          "data": {
            "text/html": [
              "<div>\n",
              "<style scoped>\n",
              "    .dataframe tbody tr th:only-of-type {\n",
              "        vertical-align: middle;\n",
              "    }\n",
              "\n",
              "    .dataframe tbody tr th {\n",
              "        vertical-align: top;\n",
              "    }\n",
              "\n",
              "    .dataframe thead th {\n",
              "        text-align: right;\n",
              "    }\n",
              "</style>\n",
              "<table border=\"1\" class=\"dataframe\">\n",
              "  <thead>\n",
              "    <tr style=\"text-align: right;\">\n",
              "      <th></th>\n",
              "      <th>UNX</th>\n",
              "      <th>EASE_LAT</th>\n",
              "      <th>EASE_LON</th>\n",
              "      <th>COG_DEG</th>\n",
              "      <th>SPEED_KNOT</th>\n",
              "    </tr>\n",
              "  </thead>\n",
              "  <tbody>\n",
              "    <tr>\n",
              "      <th>0</th>\n",
              "      <td>0.000000</td>\n",
              "      <td>0.435395</td>\n",
              "      <td>0.228707</td>\n",
              "      <td>0.852368</td>\n",
              "      <td>0.0</td>\n",
              "    </tr>\n",
              "    <tr>\n",
              "      <th>1</th>\n",
              "      <td>0.000105</td>\n",
              "      <td>0.435378</td>\n",
              "      <td>0.228690</td>\n",
              "      <td>0.532033</td>\n",
              "      <td>0.0</td>\n",
              "    </tr>\n",
              "    <tr>\n",
              "      <th>2</th>\n",
              "      <td>0.000109</td>\n",
              "      <td>0.435386</td>\n",
              "      <td>0.228690</td>\n",
              "      <td>0.532033</td>\n",
              "      <td>0.0</td>\n",
              "    </tr>\n",
              "    <tr>\n",
              "      <th>3</th>\n",
              "      <td>0.000133</td>\n",
              "      <td>0.435355</td>\n",
              "      <td>0.228707</td>\n",
              "      <td>0.779944</td>\n",
              "      <td>0.0</td>\n",
              "    </tr>\n",
              "    <tr>\n",
              "      <th>4</th>\n",
              "      <td>0.000138</td>\n",
              "      <td>0.435360</td>\n",
              "      <td>0.228707</td>\n",
              "      <td>0.779944</td>\n",
              "      <td>0.0</td>\n",
              "    </tr>\n",
              "  </tbody>\n",
              "</table>\n",
              "</div>"
            ],
            "text/plain": [
              "        UNX  EASE_LAT  EASE_LON   COG_DEG  SPEED_KNOT\n",
              "0  0.000000  0.435395  0.228707  0.852368         0.0\n",
              "1  0.000105  0.435378  0.228690  0.532033         0.0\n",
              "2  0.000109  0.435386  0.228690  0.532033         0.0\n",
              "3  0.000133  0.435355  0.228707  0.779944         0.0\n",
              "4  0.000138  0.435360  0.228707  0.779944         0.0"
            ]
          },
          "metadata": {
            "tags": []
          },
          "execution_count": 1
        }
      ]
    },
    {
      "metadata": {
        "id": "VvKlnjf6Ks1J",
        "colab_type": "text"
      },
      "cell_type": "markdown",
      "source": [
        "# Reframe "
      ]
    },
    {
      "metadata": {
        "id": "oqTpKCfQKs1K",
        "colab_type": "code",
        "colab": {}
      },
      "cell_type": "code",
      "source": [
        "# specify the number of lag hours\n",
        "n_posit = 1\n",
        "n_features = 5"
      ],
      "execution_count": 0,
      "outputs": []
    },
    {
      "metadata": {
        "id": "bz0hz14WKs1N",
        "colab_type": "code",
        "colab": {
          "base_uri": "https://localhost:8080/",
          "height": 34
        },
        "outputId": "926fe29a-18e1-4853-ca13-106815b36f8a"
      },
      "cell_type": "code",
      "source": [
        "# frame as supervised learning\n",
        "reframed = series_to_supervised(dataset, n_posit)\n",
        "reframed.shape"
      ],
      "execution_count": 3,
      "outputs": [
        {
          "output_type": "execute_result",
          "data": {
            "text/plain": [
              "(122094, 10)"
            ]
          },
          "metadata": {
            "tags": []
          },
          "execution_count": 3
        }
      ]
    },
    {
      "metadata": {
        "id": "xZN7s1FvKs1R",
        "colab_type": "code",
        "colab": {
          "base_uri": "https://localhost:8080/",
          "height": 204
        },
        "outputId": "b52b094f-8ce6-41cd-8253-9438a60f3d98"
      },
      "cell_type": "code",
      "source": [
        "reframed.head()"
      ],
      "execution_count": 4,
      "outputs": [
        {
          "output_type": "execute_result",
          "data": {
            "text/html": [
              "<div>\n",
              "<style scoped>\n",
              "    .dataframe tbody tr th:only-of-type {\n",
              "        vertical-align: middle;\n",
              "    }\n",
              "\n",
              "    .dataframe tbody tr th {\n",
              "        vertical-align: top;\n",
              "    }\n",
              "\n",
              "    .dataframe thead th {\n",
              "        text-align: right;\n",
              "    }\n",
              "</style>\n",
              "<table border=\"1\" class=\"dataframe\">\n",
              "  <thead>\n",
              "    <tr style=\"text-align: right;\">\n",
              "      <th></th>\n",
              "      <th>var1(t-1)</th>\n",
              "      <th>var2(t-1)</th>\n",
              "      <th>var3(t-1)</th>\n",
              "      <th>var4(t-1)</th>\n",
              "      <th>var5(t-1)</th>\n",
              "      <th>var1(t)</th>\n",
              "      <th>var2(t)</th>\n",
              "      <th>var3(t)</th>\n",
              "      <th>var4(t)</th>\n",
              "      <th>var5(t)</th>\n",
              "    </tr>\n",
              "  </thead>\n",
              "  <tbody>\n",
              "    <tr>\n",
              "      <th>1</th>\n",
              "      <td>0.000000</td>\n",
              "      <td>0.435395</td>\n",
              "      <td>0.228707</td>\n",
              "      <td>0.852368</td>\n",
              "      <td>0.0</td>\n",
              "      <td>0.000105</td>\n",
              "      <td>0.435378</td>\n",
              "      <td>0.228690</td>\n",
              "      <td>0.532033</td>\n",
              "      <td>0.0</td>\n",
              "    </tr>\n",
              "    <tr>\n",
              "      <th>2</th>\n",
              "      <td>0.000105</td>\n",
              "      <td>0.435378</td>\n",
              "      <td>0.228690</td>\n",
              "      <td>0.532033</td>\n",
              "      <td>0.0</td>\n",
              "      <td>0.000109</td>\n",
              "      <td>0.435386</td>\n",
              "      <td>0.228690</td>\n",
              "      <td>0.532033</td>\n",
              "      <td>0.0</td>\n",
              "    </tr>\n",
              "    <tr>\n",
              "      <th>3</th>\n",
              "      <td>0.000109</td>\n",
              "      <td>0.435386</td>\n",
              "      <td>0.228690</td>\n",
              "      <td>0.532033</td>\n",
              "      <td>0.0</td>\n",
              "      <td>0.000133</td>\n",
              "      <td>0.435355</td>\n",
              "      <td>0.228707</td>\n",
              "      <td>0.779944</td>\n",
              "      <td>0.0</td>\n",
              "    </tr>\n",
              "    <tr>\n",
              "      <th>4</th>\n",
              "      <td>0.000133</td>\n",
              "      <td>0.435355</td>\n",
              "      <td>0.228707</td>\n",
              "      <td>0.779944</td>\n",
              "      <td>0.0</td>\n",
              "      <td>0.000138</td>\n",
              "      <td>0.435360</td>\n",
              "      <td>0.228707</td>\n",
              "      <td>0.779944</td>\n",
              "      <td>0.0</td>\n",
              "    </tr>\n",
              "    <tr>\n",
              "      <th>5</th>\n",
              "      <td>0.000138</td>\n",
              "      <td>0.435360</td>\n",
              "      <td>0.228707</td>\n",
              "      <td>0.779944</td>\n",
              "      <td>0.0</td>\n",
              "      <td>0.000152</td>\n",
              "      <td>0.435347</td>\n",
              "      <td>0.228715</td>\n",
              "      <td>0.952646</td>\n",
              "      <td>0.0</td>\n",
              "    </tr>\n",
              "  </tbody>\n",
              "</table>\n",
              "</div>"
            ],
            "text/plain": [
              "   var1(t-1)  var2(t-1)  var3(t-1)  var4(t-1)  var5(t-1)   var1(t)   var2(t)  \\\n",
              "1   0.000000   0.435395   0.228707   0.852368        0.0  0.000105  0.435378   \n",
              "2   0.000105   0.435378   0.228690   0.532033        0.0  0.000109  0.435386   \n",
              "3   0.000109   0.435386   0.228690   0.532033        0.0  0.000133  0.435355   \n",
              "4   0.000133   0.435355   0.228707   0.779944        0.0  0.000138  0.435360   \n",
              "5   0.000138   0.435360   0.228707   0.779944        0.0  0.000152  0.435347   \n",
              "\n",
              "    var3(t)   var4(t)  var5(t)  \n",
              "1  0.228690  0.532033      0.0  \n",
              "2  0.228690  0.532033      0.0  \n",
              "3  0.228707  0.779944      0.0  \n",
              "4  0.228707  0.779944      0.0  \n",
              "5  0.228715  0.952646      0.0  "
            ]
          },
          "metadata": {
            "tags": []
          },
          "execution_count": 4
        }
      ]
    },
    {
      "metadata": {
        "id": "eGS12dKnKs1U",
        "colab_type": "code",
        "colab": {
          "base_uri": "https://localhost:8080/",
          "height": 272
        },
        "outputId": "f8406f0c-e2bc-41a2-d448-dc48bd07a4ad"
      },
      "cell_type": "code",
      "source": [
        "#ensure all data is float\n",
        "reframed = reframed.astype('float32')\n",
        "reframed.info()"
      ],
      "execution_count": 6,
      "outputs": [
        {
          "output_type": "stream",
          "text": [
            "<class 'pandas.core.frame.DataFrame'>\n",
            "Int64Index: 122094 entries, 1 to 122094\n",
            "Data columns (total 10 columns):\n",
            "var1(t-1)    122094 non-null float32\n",
            "var2(t-1)    122094 non-null float32\n",
            "var3(t-1)    122094 non-null float32\n",
            "var4(t-1)    122094 non-null float32\n",
            "var5(t-1)    122094 non-null float32\n",
            "var1(t)      122094 non-null float32\n",
            "var2(t)      122094 non-null float32\n",
            "var3(t)      122094 non-null float32\n",
            "var4(t)      122094 non-null float32\n",
            "var5(t)      122094 non-null float32\n",
            "dtypes: float32(10)\n",
            "memory usage: 5.6 MB\n"
          ],
          "name": "stdout"
        }
      ]
    },
    {
      "metadata": {
        "id": "MDXGyFnadnYY",
        "colab_type": "code",
        "colab": {
          "base_uri": "https://localhost:8080/",
          "height": 204
        },
        "outputId": "b8186224-2eec-4bf4-a467-0e694a08f8ba"
      },
      "cell_type": "code",
      "source": [
        "# Drop columns we don't want to predict\n",
        "reframed.drop(columns=['var1(t)', 'var4(t)', 'var5(t)'], axis=1).head()"
      ],
      "execution_count": 7,
      "outputs": [
        {
          "output_type": "execute_result",
          "data": {
            "text/html": [
              "<div>\n",
              "<style scoped>\n",
              "    .dataframe tbody tr th:only-of-type {\n",
              "        vertical-align: middle;\n",
              "    }\n",
              "\n",
              "    .dataframe tbody tr th {\n",
              "        vertical-align: top;\n",
              "    }\n",
              "\n",
              "    .dataframe thead th {\n",
              "        text-align: right;\n",
              "    }\n",
              "</style>\n",
              "<table border=\"1\" class=\"dataframe\">\n",
              "  <thead>\n",
              "    <tr style=\"text-align: right;\">\n",
              "      <th></th>\n",
              "      <th>var1(t-1)</th>\n",
              "      <th>var2(t-1)</th>\n",
              "      <th>var3(t-1)</th>\n",
              "      <th>var4(t-1)</th>\n",
              "      <th>var5(t-1)</th>\n",
              "      <th>var2(t)</th>\n",
              "      <th>var3(t)</th>\n",
              "    </tr>\n",
              "  </thead>\n",
              "  <tbody>\n",
              "    <tr>\n",
              "      <th>1</th>\n",
              "      <td>0.000000</td>\n",
              "      <td>0.435395</td>\n",
              "      <td>0.228707</td>\n",
              "      <td>0.852368</td>\n",
              "      <td>0.0</td>\n",
              "      <td>0.435378</td>\n",
              "      <td>0.228690</td>\n",
              "    </tr>\n",
              "    <tr>\n",
              "      <th>2</th>\n",
              "      <td>0.000105</td>\n",
              "      <td>0.435378</td>\n",
              "      <td>0.228690</td>\n",
              "      <td>0.532033</td>\n",
              "      <td>0.0</td>\n",
              "      <td>0.435386</td>\n",
              "      <td>0.228690</td>\n",
              "    </tr>\n",
              "    <tr>\n",
              "      <th>3</th>\n",
              "      <td>0.000109</td>\n",
              "      <td>0.435386</td>\n",
              "      <td>0.228690</td>\n",
              "      <td>0.532033</td>\n",
              "      <td>0.0</td>\n",
              "      <td>0.435355</td>\n",
              "      <td>0.228707</td>\n",
              "    </tr>\n",
              "    <tr>\n",
              "      <th>4</th>\n",
              "      <td>0.000133</td>\n",
              "      <td>0.435355</td>\n",
              "      <td>0.228707</td>\n",
              "      <td>0.779944</td>\n",
              "      <td>0.0</td>\n",
              "      <td>0.435360</td>\n",
              "      <td>0.228707</td>\n",
              "    </tr>\n",
              "    <tr>\n",
              "      <th>5</th>\n",
              "      <td>0.000138</td>\n",
              "      <td>0.435360</td>\n",
              "      <td>0.228707</td>\n",
              "      <td>0.779944</td>\n",
              "      <td>0.0</td>\n",
              "      <td>0.435347</td>\n",
              "      <td>0.228715</td>\n",
              "    </tr>\n",
              "  </tbody>\n",
              "</table>\n",
              "</div>"
            ],
            "text/plain": [
              "   var1(t-1)  var2(t-1)  var3(t-1)  var4(t-1)  var5(t-1)   var2(t)   var3(t)\n",
              "1   0.000000   0.435395   0.228707   0.852368        0.0  0.435378  0.228690\n",
              "2   0.000105   0.435378   0.228690   0.532033        0.0  0.435386  0.228690\n",
              "3   0.000109   0.435386   0.228690   0.532033        0.0  0.435355  0.228707\n",
              "4   0.000133   0.435355   0.228707   0.779944        0.0  0.435360  0.228707\n",
              "5   0.000138   0.435360   0.228707   0.779944        0.0  0.435347  0.228715"
            ]
          },
          "metadata": {
            "tags": []
          },
          "execution_count": 7
        }
      ]
    },
    {
      "metadata": {
        "id": "Koo70HCLZ2zj",
        "colab_type": "code",
        "colab": {
          "base_uri": "https://localhost:8080/",
          "height": 238
        },
        "outputId": "e4e64b46-7eee-4fae-b60f-f49a186e22fe"
      },
      "cell_type": "code",
      "source": [
        "# Min_Max Scaler (no change to data but needed for evaluation below)\n",
        "scaler = MinMaxScaler(feature_range=(0, 1))\n",
        "scaled = scaler.fit_transform(reframed)\n",
        "print(scaled)"
      ],
      "execution_count": 8,
      "outputs": [
        {
          "output_type": "stream",
          "text": [
            "[[0.00000000e+00 4.35394645e-01 2.28707045e-01 ... 2.28690162e-01\n",
            "  5.32033443e-01 0.00000000e+00]\n",
            " [1.04571682e-04 4.35377538e-01 2.28690162e-01 ... 2.28690162e-01\n",
            "  5.32033443e-01 0.00000000e+00]\n",
            " [1.09324942e-04 4.35385525e-01 2.28690162e-01 ... 2.28707045e-01\n",
            "  7.79944301e-01 0.00000000e+00]\n",
            " ...\n",
            " [9.99985754e-01 5.24319187e-02 5.40896654e-02 ... 5.40896654e-02\n",
            "  5.73816180e-01 8.54700897e-03]\n",
            " [9.99995291e-01 5.24455421e-02 5.40896654e-02 ... 5.40727712e-02\n",
            "  4.06685233e-01 8.54700897e-03]\n",
            " [1.00000000e+00 5.24228364e-02 5.40727712e-02 ... 5.41065559e-02\n",
            "  8.69080782e-01 8.54700897e-03]]\n"
          ],
          "name": "stdout"
        }
      ]
    },
    {
      "metadata": {
        "id": "2eSJUoafKs1c",
        "colab_type": "text"
      },
      "cell_type": "markdown",
      "source": [
        "# Split and Reshape"
      ]
    },
    {
      "metadata": {
        "id": "TTaCNAOiKs1c",
        "colab_type": "code",
        "colab": {}
      },
      "cell_type": "code",
      "source": [
        "# split into train and test sets\n",
        "n_train_hours = 109886\n",
        "train = scaled[:n_train_hours, :]\n",
        "test = scaled[n_train_hours:, :]"
      ],
      "execution_count": 0,
      "outputs": []
    },
    {
      "metadata": {
        "id": "ymgKRDCwKs1f",
        "colab_type": "code",
        "colab": {
          "base_uri": "https://localhost:8080/",
          "height": 34
        },
        "outputId": "900a1fae-4ba1-4858-de07-80790bb65fc9"
      },
      "cell_type": "code",
      "source": [
        "# split into input and outputs\n",
        "n_obs = n_posit * n_features\n",
        "train_X, train_y = train[:, :n_obs], train[:, -n_features]\n",
        "test_X, test_y = test[:, :n_obs], test[:, -n_features]\n",
        "print(train_X.shape, len(train_X), train_y.shape)"
      ],
      "execution_count": 10,
      "outputs": [
        {
          "output_type": "stream",
          "text": [
            "(109886, 5) 109886 (109886,)\n"
          ],
          "name": "stdout"
        }
      ]
    },
    {
      "metadata": {
        "id": "nR8jcPgaKs1k",
        "colab_type": "code",
        "colab": {
          "base_uri": "https://localhost:8080/",
          "height": 34
        },
        "outputId": "55778bc0-b6e5-4f3a-aa81-e0214b960e13"
      },
      "cell_type": "code",
      "source": [
        "# reshape input to be 3D [samples, timesteps, features]\n",
        "train_X = train_X.reshape((train_X.shape[0], n_posit, n_features))\n",
        "test_X = test_X.reshape((test_X.shape[0], n_posit, n_features))\n",
        "print(train_X.shape, train_y.shape, test_X.shape, test_y.shape)"
      ],
      "execution_count": 11,
      "outputs": [
        {
          "output_type": "stream",
          "text": [
            "(109886, 1, 5) (109886,) (12208, 1, 5) (12208,)\n"
          ],
          "name": "stdout"
        }
      ]
    },
    {
      "metadata": {
        "id": "CeEpnpJ4Ks1n",
        "colab_type": "text"
      },
      "cell_type": "markdown",
      "source": [
        "# Design and Run the Network"
      ]
    },
    {
      "metadata": {
        "id": "9Jv5FwvJKs1n",
        "colab_type": "code",
        "colab": {}
      },
      "cell_type": "code",
      "source": [
        "# design network\n",
        "model = Sequential()\n",
        "model.add(LSTM(50, input_shape=(train_X.shape[1], train_X.shape[2])))\n",
        "model.add(Dense(1))\n",
        "model.compile(loss='mae', optimizer='adam')"
      ],
      "execution_count": 0,
      "outputs": []
    },
    {
      "metadata": {
        "id": "_OmBF95tKs1p",
        "colab_type": "code",
        "colab": {
          "base_uri": "https://localhost:8080/",
          "height": 1734
        },
        "outputId": "614892c1-e1a6-4e1e-ead0-5eb9486ea0c2"
      },
      "cell_type": "code",
      "source": [
        "# fit network\n",
        "history = model.fit(train_X, train_y, epochs=50, batch_size=72, validation_data=(test_X, test_y), verbose=2, shuffle=False)"
      ],
      "execution_count": 13,
      "outputs": [
        {
          "output_type": "stream",
          "text": [
            "Train on 109886 samples, validate on 12208 samples\n",
            "Epoch 1/50\n",
            " - 4s - loss: 0.0057 - val_loss: 0.0364\n",
            "Epoch 2/50\n",
            " - 4s - loss: 0.0104 - val_loss: 0.0325\n",
            "Epoch 3/50\n",
            " - 4s - loss: 0.0077 - val_loss: 0.0211\n",
            "Epoch 4/50\n",
            " - 4s - loss: 0.0068 - val_loss: 0.0187\n",
            "Epoch 5/50\n",
            " - 4s - loss: 0.0053 - val_loss: 0.0192\n",
            "Epoch 6/50\n",
            " - 4s - loss: 0.0040 - val_loss: 0.0099\n",
            "Epoch 7/50\n",
            " - 4s - loss: 0.0033 - val_loss: 0.0107\n",
            "Epoch 8/50\n",
            " - 4s - loss: 0.0028 - val_loss: 0.0081\n",
            "Epoch 9/50\n",
            " - 4s - loss: 0.0028 - val_loss: 0.0084\n",
            "Epoch 10/50\n",
            " - 4s - loss: 0.0023 - val_loss: 0.0063\n",
            "Epoch 11/50\n",
            " - 4s - loss: 0.0024 - val_loss: 0.0081\n",
            "Epoch 12/50\n",
            " - 4s - loss: 0.0021 - val_loss: 0.0062\n",
            "Epoch 13/50\n",
            " - 4s - loss: 0.0022 - val_loss: 0.0034\n",
            "Epoch 14/50\n",
            " - 4s - loss: 0.0020 - val_loss: 0.0033\n",
            "Epoch 15/50\n",
            " - 4s - loss: 0.0019 - val_loss: 0.0038\n",
            "Epoch 16/50\n",
            " - 4s - loss: 0.0017 - val_loss: 0.0021\n",
            "Epoch 17/50\n",
            " - 4s - loss: 0.0019 - val_loss: 0.0035\n",
            "Epoch 18/50\n",
            " - 4s - loss: 0.0016 - val_loss: 0.0083\n",
            "Epoch 19/50\n",
            " - 4s - loss: 0.0018 - val_loss: 0.0060\n",
            "Epoch 20/50\n",
            " - 4s - loss: 0.0020 - val_loss: 0.0054\n",
            "Epoch 21/50\n",
            " - 4s - loss: 0.0022 - val_loss: 0.0049\n",
            "Epoch 22/50\n",
            " - 4s - loss: 0.0019 - val_loss: 0.0054\n",
            "Epoch 23/50\n",
            " - 4s - loss: 0.0018 - val_loss: 0.0029\n",
            "Epoch 24/50\n",
            " - 4s - loss: 0.0016 - val_loss: 0.0023\n",
            "Epoch 25/50\n",
            " - 4s - loss: 0.0017 - val_loss: 0.0048\n",
            "Epoch 26/50\n",
            " - 4s - loss: 0.0019 - val_loss: 0.0054\n",
            "Epoch 27/50\n",
            " - 4s - loss: 0.0017 - val_loss: 0.0041\n",
            "Epoch 28/50\n",
            " - 4s - loss: 0.0019 - val_loss: 0.0052\n",
            "Epoch 29/50\n",
            " - 4s - loss: 0.0018 - val_loss: 0.0057\n",
            "Epoch 30/50\n",
            " - 4s - loss: 0.0017 - val_loss: 0.0027\n",
            "Epoch 31/50\n",
            " - 4s - loss: 0.0016 - val_loss: 0.0034\n",
            "Epoch 32/50\n",
            " - 4s - loss: 0.0015 - val_loss: 0.0024\n",
            "Epoch 33/50\n",
            " - 4s - loss: 0.0016 - val_loss: 0.0068\n",
            "Epoch 34/50\n",
            " - 4s - loss: 0.0015 - val_loss: 0.0066\n",
            "Epoch 35/50\n",
            " - 4s - loss: 0.0015 - val_loss: 0.0027\n",
            "Epoch 36/50\n",
            " - 4s - loss: 0.0016 - val_loss: 0.0026\n",
            "Epoch 37/50\n",
            " - 4s - loss: 0.0014 - val_loss: 0.0040\n",
            "Epoch 38/50\n",
            " - 4s - loss: 0.0015 - val_loss: 0.0034\n",
            "Epoch 39/50\n",
            " - 4s - loss: 0.0015 - val_loss: 0.0066\n",
            "Epoch 40/50\n",
            " - 4s - loss: 0.0014 - val_loss: 0.0060\n",
            "Epoch 41/50\n",
            " - 4s - loss: 0.0015 - val_loss: 0.0032\n",
            "Epoch 42/50\n",
            " - 4s - loss: 0.0015 - val_loss: 0.0046\n",
            "Epoch 43/50\n"
          ],
          "name": "stdout"
        },
        {
          "output_type": "stream",
          "text": [
            " - 4s - loss: 0.0014 - val_loss: 0.0032\n",
            "Epoch 44/50\n",
            " - 4s - loss: 0.0014 - val_loss: 0.0065\n",
            "Epoch 45/50\n",
            " - 4s - loss: 0.0013 - val_loss: 0.0033\n",
            "Epoch 46/50\n",
            " - 4s - loss: 0.0015 - val_loss: 0.0032\n",
            "Epoch 47/50\n",
            " - 4s - loss: 0.0015 - val_loss: 0.0065\n",
            "Epoch 48/50\n",
            " - 4s - loss: 0.0014 - val_loss: 0.0077\n",
            "Epoch 49/50\n",
            " - 4s - loss: 0.0015 - val_loss: 0.0066\n",
            "Epoch 50/50\n",
            " - 4s - loss: 0.0014 - val_loss: 0.0085\n"
          ],
          "name": "stdout"
        }
      ]
    },
    {
      "metadata": {
        "id": "CrcJf1KurfTQ",
        "colab_type": "text"
      },
      "cell_type": "markdown",
      "source": [
        "# Evaluate Network"
      ]
    },
    {
      "metadata": {
        "id": "Sonf1FWwKs1s",
        "colab_type": "code",
        "colab": {
          "base_uri": "https://localhost:8080/",
          "height": 347
        },
        "outputId": "c25e6bef-0df6-457c-8300-8f74cc9bfa32"
      },
      "cell_type": "code",
      "source": [
        "# plot history\n",
        "pyplot.plot(history.history['loss'], label='train')\n",
        "pyplot.plot(history.history['val_loss'], label='test')\n",
        "pyplot.legend()\n",
        "pyplot.show()"
      ],
      "execution_count": 14,
      "outputs": [
        {
          "output_type": "display_data",
          "data": {
            "image/png": "[encoded data removed]",
            "text/plain": [
              "<matplotlib.figure.Figure at 0x7fa0ea482be0>"
            ]
          },
          "metadata": {
            "tags": []
          }
        }
      ]
    },
    {
      "metadata": {
        "id": "QtRzG8s7Ks1u",
        "colab_type": "code",
        "colab": {}
      },
      "cell_type": "code",
      "source": [
        "# make a prediction\n",
        "yhat = model.predict(test_X)\n",
        "test_X = test_X.reshape((test_X.shape[0], n_posit*n_features))"
      ],
      "execution_count": 0,
      "outputs": []
    },
    {
      "metadata": {
        "id": "4EWUf5YvKs1x",
        "colab_type": "code",
        "colab": {
          "base_uri": "https://localhost:8080/",
          "height": 317
        },
        "outputId": "07007dc3-83e9-4d0c-c4e3-a0ab5f8cfc70"
      },
      "cell_type": "code",
      "source": [
        "# invert scaling for forecast\n",
        "inv_yhat = concatenate((yhat, test_X[:, -2:]), axis=1)\n",
        "inv_yhat = scaler.inverse_transform(inv_yhat)\n",
        "inv_yhat = inv_yhat[:,0]"
      ],
      "execution_count": 16,
      "outputs": [
        {
          "output_type": "error",
          "ename": "ValueError",
          "evalue": "ignored",
          "traceback": [
            "\u001b[0;31m---------------------------------------------------------------------------\u001b[0m",
            "\u001b[0;31mValueError\u001b[0m                                Traceback (most recent call last)",
            "\u001b[0;32m<ipython-input-16-a5035afd53be>\u001b[0m in \u001b[0;36m<module>\u001b[0;34m()\u001b[0m\n\u001b[1;32m      1\u001b[0m \u001b[0minv_yhat\u001b[0m \u001b[0;34m=\u001b[0m \u001b[0mconcatenate\u001b[0m\u001b[0;34m(\u001b[0m\u001b[0;34m(\u001b[0m\u001b[0myhat\u001b[0m\u001b[0;34m,\u001b[0m \u001b[0mtest_X\u001b[0m\u001b[0;34m[\u001b[0m\u001b[0;34m:\u001b[0m\u001b[0;34m,\u001b[0m \u001b[0;34m-\u001b[0m\u001b[0;36m2\u001b[0m\u001b[0;34m:\u001b[0m\u001b[0;34m]\u001b[0m\u001b[0;34m)\u001b[0m\u001b[0;34m,\u001b[0m \u001b[0maxis\u001b[0m\u001b[0;34m=\u001b[0m\u001b[0;36m1\u001b[0m\u001b[0;34m)\u001b[0m\u001b[0;34m\u001b[0m\u001b[0m\n\u001b[0;32m----> 2\u001b[0;31m \u001b[0minv_yhat\u001b[0m \u001b[0;34m=\u001b[0m \u001b[0mscaler\u001b[0m\u001b[0;34m.\u001b[0m\u001b[0minverse_transform\u001b[0m\u001b[0;34m(\u001b[0m\u001b[0minv_yhat\u001b[0m\u001b[0;34m)\u001b[0m\u001b[0;34m\u001b[0m\u001b[0m\n\u001b[0m\u001b[1;32m      3\u001b[0m \u001b[0minv_yhat\u001b[0m \u001b[0;34m=\u001b[0m \u001b[0minv_yhat\u001b[0m\u001b[0;34m[\u001b[0m\u001b[0;34m:\u001b[0m\u001b[0;34m,\u001b[0m\u001b[0;36m0\u001b[0m\u001b[0;34m]\u001b[0m\u001b[0;34m\u001b[0m\u001b[0m\n",
            "\u001b[0;32m/usr/local/lib/python3.6/dist-packages/sklearn/preprocessing/data.py\u001b[0m in \u001b[0;36minverse_transform\u001b[0;34m(self, X)\u001b[0m\n\u001b[1;32m    383\u001b[0m         \u001b[0mX\u001b[0m \u001b[0;34m=\u001b[0m \u001b[0mcheck_array\u001b[0m\u001b[0;34m(\u001b[0m\u001b[0mX\u001b[0m\u001b[0;34m,\u001b[0m \u001b[0mcopy\u001b[0m\u001b[0;34m=\u001b[0m\u001b[0mself\u001b[0m\u001b[0;34m.\u001b[0m\u001b[0mcopy\u001b[0m\u001b[0;34m,\u001b[0m \u001b[0mdtype\u001b[0m\u001b[0;34m=\u001b[0m\u001b[0mFLOAT_DTYPES\u001b[0m\u001b[0;34m)\u001b[0m\u001b[0;34m\u001b[0m\u001b[0m\n\u001b[1;32m    384\u001b[0m \u001b[0;34m\u001b[0m\u001b[0m\n\u001b[0;32m--> 385\u001b[0;31m         \u001b[0mX\u001b[0m \u001b[0;34m-=\u001b[0m \u001b[0mself\u001b[0m\u001b[0;34m.\u001b[0m\u001b[0mmin_\u001b[0m\u001b[0;34m\u001b[0m\u001b[0m\n\u001b[0m\u001b[1;32m    386\u001b[0m         \u001b[0mX\u001b[0m \u001b[0;34m/=\u001b[0m \u001b[0mself\u001b[0m\u001b[0;34m.\u001b[0m\u001b[0mscale_\u001b[0m\u001b[0;34m\u001b[0m\u001b[0m\n\u001b[1;32m    387\u001b[0m         \u001b[0;32mreturn\u001b[0m \u001b[0mX\u001b[0m\u001b[0;34m\u001b[0m\u001b[0m\n",
            "\u001b[0;31mValueError\u001b[0m: operands could not be broadcast together with shapes (12208,3) (10,) (12208,3) "
          ]
        }
      ]
    },
    {
      "metadata": {
        "id": "1V47uF62Ks1y",
        "colab_type": "code",
        "colab": {
          "base_uri": "https://localhost:8080/",
          "height": 334
        },
        "outputId": "fbb7ab07-24b3-4ac8-e7a9-b0fa27184158"
      },
      "cell_type": "code",
      "source": [
        "# invert scaling for actual\n",
        "test_y = test_y.reshape((len(test_y), 1))\n",
        "inv_y = concatenate((test_y, test_X[:, -7:]), axis=1)\n",
        "inv_y = scaler.inverse_transform(inv_y)\n",
        "inv_y = inv_y[:,0]"
      ],
      "execution_count": 18,
      "outputs": [
        {
          "output_type": "error",
          "ename": "ValueError",
          "evalue": "ignored",
          "traceback": [
            "\u001b[0;31m---------------------------------------------------------------------------\u001b[0m",
            "\u001b[0;31mValueError\u001b[0m                                Traceback (most recent call last)",
            "\u001b[0;32m<ipython-input-18-6be40d9a9b4a>\u001b[0m in \u001b[0;36m<module>\u001b[0;34m()\u001b[0m\n\u001b[1;32m      1\u001b[0m \u001b[0mtest_y\u001b[0m \u001b[0;34m=\u001b[0m \u001b[0mtest_y\u001b[0m\u001b[0;34m.\u001b[0m\u001b[0mreshape\u001b[0m\u001b[0;34m(\u001b[0m\u001b[0;34m(\u001b[0m\u001b[0mlen\u001b[0m\u001b[0;34m(\u001b[0m\u001b[0mtest_y\u001b[0m\u001b[0;34m)\u001b[0m\u001b[0;34m,\u001b[0m \u001b[0;36m1\u001b[0m\u001b[0;34m)\u001b[0m\u001b[0;34m)\u001b[0m\u001b[0;34m\u001b[0m\u001b[0m\n\u001b[1;32m      2\u001b[0m \u001b[0minv_y\u001b[0m \u001b[0;34m=\u001b[0m \u001b[0mconcatenate\u001b[0m\u001b[0;34m(\u001b[0m\u001b[0;34m(\u001b[0m\u001b[0mtest_y\u001b[0m\u001b[0;34m,\u001b[0m \u001b[0mtest_X\u001b[0m\u001b[0;34m[\u001b[0m\u001b[0;34m:\u001b[0m\u001b[0;34m,\u001b[0m \u001b[0;34m-\u001b[0m\u001b[0;36m7\u001b[0m\u001b[0;34m:\u001b[0m\u001b[0;34m]\u001b[0m\u001b[0;34m)\u001b[0m\u001b[0;34m,\u001b[0m \u001b[0maxis\u001b[0m\u001b[0;34m=\u001b[0m\u001b[0;36m1\u001b[0m\u001b[0;34m)\u001b[0m\u001b[0;34m\u001b[0m\u001b[0m\n\u001b[0;32m----> 3\u001b[0;31m \u001b[0minv_y\u001b[0m \u001b[0;34m=\u001b[0m \u001b[0mscaler\u001b[0m\u001b[0;34m.\u001b[0m\u001b[0minverse_transform\u001b[0m\u001b[0;34m(\u001b[0m\u001b[0minv_y\u001b[0m\u001b[0;34m)\u001b[0m\u001b[0;34m\u001b[0m\u001b[0m\n\u001b[0m\u001b[1;32m      4\u001b[0m \u001b[0minv_y\u001b[0m \u001b[0;34m=\u001b[0m \u001b[0minv_y\u001b[0m\u001b[0;34m[\u001b[0m\u001b[0;34m:\u001b[0m\u001b[0;34m,\u001b[0m\u001b[0;36m0\u001b[0m\u001b[0;34m]\u001b[0m\u001b[0;34m\u001b[0m\u001b[0m\n",
            "\u001b[0;32m/usr/local/lib/python3.6/dist-packages/sklearn/preprocessing/data.py\u001b[0m in \u001b[0;36minverse_transform\u001b[0;34m(self, X)\u001b[0m\n\u001b[1;32m    383\u001b[0m         \u001b[0mX\u001b[0m \u001b[0;34m=\u001b[0m \u001b[0mcheck_array\u001b[0m\u001b[0;34m(\u001b[0m\u001b[0mX\u001b[0m\u001b[0;34m,\u001b[0m \u001b[0mcopy\u001b[0m\u001b[0;34m=\u001b[0m\u001b[0mself\u001b[0m\u001b[0;34m.\u001b[0m\u001b[0mcopy\u001b[0m\u001b[0;34m,\u001b[0m \u001b[0mdtype\u001b[0m\u001b[0;34m=\u001b[0m\u001b[0mFLOAT_DTYPES\u001b[0m\u001b[0;34m)\u001b[0m\u001b[0;34m\u001b[0m\u001b[0m\n\u001b[1;32m    384\u001b[0m \u001b[0;34m\u001b[0m\u001b[0m\n\u001b[0;32m--> 385\u001b[0;31m         \u001b[0mX\u001b[0m \u001b[0;34m-=\u001b[0m \u001b[0mself\u001b[0m\u001b[0;34m.\u001b[0m\u001b[0mmin_\u001b[0m\u001b[0;34m\u001b[0m\u001b[0m\n\u001b[0m\u001b[1;32m    386\u001b[0m         \u001b[0mX\u001b[0m \u001b[0;34m/=\u001b[0m \u001b[0mself\u001b[0m\u001b[0;34m.\u001b[0m\u001b[0mscale_\u001b[0m\u001b[0;34m\u001b[0m\u001b[0m\n\u001b[1;32m    387\u001b[0m         \u001b[0;32mreturn\u001b[0m \u001b[0mX\u001b[0m\u001b[0;34m\u001b[0m\u001b[0m\n",
            "\u001b[0;31mValueError\u001b[0m: operands could not be broadcast together with shapes (12208,6) (10,) (12208,6) "
          ]
        }
      ]
    },
    {
      "metadata": {
        "id": "CHawlScHKs10",
        "colab_type": "code",
        "colab": {}
      },
      "cell_type": "code",
      "source": [
        "# calculate RMSE\n",
        "rmse = sqrt(mean_squared_error(inv_y, inv_yhat))\n",
        "print('Test RMSE: %.3f' % rmse)"
      ],
      "execution_count": 0,
      "outputs": []
    }
  ]
}