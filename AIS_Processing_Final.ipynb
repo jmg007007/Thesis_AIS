{
 "cells": [
  {
   "cell_type": "markdown",
   "metadata": {
    "nbpresent": {
     "id": "c624337c-f7ad-4816-93bf-954246032d6f"
    }
   },
   "source": [
    "# Import Libraries and Data"
   ]
  },
  {
   "cell_type": "code",
   "execution_count": 1,
   "metadata": {
    "nbpresent": {
     "id": "a32daceb-e14a-4c56-9682-cd3294eaf480"
    }
   },
   "outputs": [],
   "source": [
    "import pandas as pd\n",
    "import matplotlib.pyplot as plt\n",
    "import numpy as np\n",
    "import seaborn as sns\n",
    "import datetime\n",
    "from sklearn import preprocessing\n",
    "#import os\n",
    "%matplotlib inline\n",
    "\n",
    "df = pd.read_csv('/Users/jasongangel/Downloads/AIS/data/WorkOrder7538249_SAIS_2016-01.csv', usecols=['MMSI','PERIOD', 'Latitude', 'Longitude','SPEED_KNOTS', 'COG_DEG', 'SHIP_AND_CARGO_TYPE','DRAUGHT'], na_values ='None',low_memory=False, parse_dates=['PERIOD'])\n",
    "\n",
    "df = df.rename(columns={'Latitude': 'LAT', 'Longitude': 'LON', 'SHIP_AND_CARGO_TYPE':'SHIP_TYPE'})"
   ]
  },
  {
   "cell_type": "markdown",
   "metadata": {},
   "source": [
    "# Datashader Geospatial Plot"
   ]
  },
  {
   "cell_type": "code",
   "execution_count": 2,
   "metadata": {},
   "outputs": [
    {
     "ename": "OSError",
     "evalue": "/Users/jasongangel/Downloads/AIS/data/Clean/Clean-01_16*.csv resolved to no files",
     "output_type": "error",
     "traceback": [
      "\u001b[0;31m---------------------------------------------------------------------------\u001b[0m",
      "\u001b[0;31mOSError\u001b[0m                                   Traceback (most recent call last)",
      "\u001b[0;32m<ipython-input-2-dd37144c169a>\u001b[0m in \u001b[0;36m<module>\u001b[0;34m()\u001b[0m\n\u001b[1;32m      3\u001b[0m \u001b[0;32mimport\u001b[0m \u001b[0mdatashader\u001b[0m\u001b[0;34m.\u001b[0m\u001b[0mtransfer_functions\u001b[0m \u001b[0;32mas\u001b[0m \u001b[0mtf\u001b[0m\u001b[0;34m\u001b[0m\u001b[0m\n\u001b[1;32m      4\u001b[0m \u001b[0;32mimport\u001b[0m \u001b[0mdask\u001b[0m\u001b[0;34m.\u001b[0m\u001b[0mdataframe\u001b[0m \u001b[0;32mas\u001b[0m \u001b[0mdd\u001b[0m\u001b[0;34m\u001b[0m\u001b[0m\n\u001b[0;32m----> 5\u001b[0;31m \u001b[0mdd\u001b[0m \u001b[0;34m=\u001b[0m \u001b[0mdd\u001b[0m\u001b[0;34m.\u001b[0m\u001b[0mread_csv\u001b[0m\u001b[0;34m(\u001b[0m\u001b[0;34m'/Users/jasongangel/Downloads/AIS/data/Clean/Clean-01_16*.csv'\u001b[0m\u001b[0;34m)\u001b[0m\u001b[0;34m.\u001b[0m\u001b[0mpersist\u001b[0m\u001b[0;34m(\u001b[0m\u001b[0;34m)\u001b[0m\u001b[0;34m\u001b[0m\u001b[0m\n\u001b[0m\u001b[1;32m      6\u001b[0m \u001b[0;34m\u001b[0m\u001b[0m\n\u001b[1;32m      7\u001b[0m canvas = ds.Canvas(plot_width=500, plot_height=300, \n",
      "\u001b[0;32m/anaconda3/lib/python3.6/site-packages/dask/dataframe/io/csv.py\u001b[0m in \u001b[0;36mread\u001b[0;34m(urlpath, blocksize, collection, lineterminator, compression, sample, enforce, assume_missing, storage_options, **kwargs)\u001b[0m\n\u001b[1;32m    424\u001b[0m                            \u001b[0menforce\u001b[0m\u001b[0;34m=\u001b[0m\u001b[0menforce\u001b[0m\u001b[0;34m,\u001b[0m \u001b[0massume_missing\u001b[0m\u001b[0;34m=\u001b[0m\u001b[0massume_missing\u001b[0m\u001b[0;34m,\u001b[0m\u001b[0;34m\u001b[0m\u001b[0m\n\u001b[1;32m    425\u001b[0m                            \u001b[0mstorage_options\u001b[0m\u001b[0;34m=\u001b[0m\u001b[0mstorage_options\u001b[0m\u001b[0;34m,\u001b[0m\u001b[0;34m\u001b[0m\u001b[0m\n\u001b[0;32m--> 426\u001b[0;31m                            **kwargs)\n\u001b[0m\u001b[1;32m    427\u001b[0m     read.__doc__ = READ_DOC_TEMPLATE.format(reader=reader_name,\n\u001b[1;32m    428\u001b[0m                                             file_type=file_type)\n",
      "\u001b[0;32m/anaconda3/lib/python3.6/site-packages/dask/dataframe/io/csv.py\u001b[0m in \u001b[0;36mread_pandas\u001b[0;34m(reader, urlpath, blocksize, collection, lineterminator, compression, sample, enforce, assume_missing, storage_options, **kwargs)\u001b[0m\n\u001b[1;32m    300\u001b[0m                                   \u001b[0msample\u001b[0m\u001b[0;34m=\u001b[0m\u001b[0msample\u001b[0m\u001b[0;34m,\u001b[0m\u001b[0;34m\u001b[0m\u001b[0m\n\u001b[1;32m    301\u001b[0m                                   \u001b[0mcompression\u001b[0m\u001b[0;34m=\u001b[0m\u001b[0mcompression\u001b[0m\u001b[0;34m,\u001b[0m\u001b[0;34m\u001b[0m\u001b[0m\n\u001b[0;32m--> 302\u001b[0;31m                                   **(storage_options or {}))\n\u001b[0m\u001b[1;32m    303\u001b[0m \u001b[0;34m\u001b[0m\u001b[0m\n\u001b[1;32m    304\u001b[0m     \u001b[0;32mif\u001b[0m \u001b[0;32mnot\u001b[0m \u001b[0misinstance\u001b[0m\u001b[0;34m(\u001b[0m\u001b[0mvalues\u001b[0m\u001b[0;34m[\u001b[0m\u001b[0;36m0\u001b[0m\u001b[0;34m]\u001b[0m\u001b[0;34m,\u001b[0m \u001b[0;34m(\u001b[0m\u001b[0mtuple\u001b[0m\u001b[0;34m,\u001b[0m \u001b[0mlist\u001b[0m\u001b[0;34m)\u001b[0m\u001b[0;34m)\u001b[0m\u001b[0;34m:\u001b[0m\u001b[0;34m\u001b[0m\u001b[0m\n",
      "\u001b[0;32m/anaconda3/lib/python3.6/site-packages/dask/bytes/core.py\u001b[0m in \u001b[0;36mread_bytes\u001b[0;34m(urlpath, delimiter, not_zero, blocksize, sample, compression, **kwargs)\u001b[0m\n\u001b[1;32m     72\u001b[0m \u001b[0;34m\u001b[0m\u001b[0m\n\u001b[1;32m     73\u001b[0m     \u001b[0;32mif\u001b[0m \u001b[0mlen\u001b[0m\u001b[0;34m(\u001b[0m\u001b[0mpaths\u001b[0m\u001b[0;34m)\u001b[0m \u001b[0;34m==\u001b[0m \u001b[0;36m0\u001b[0m\u001b[0;34m:\u001b[0m\u001b[0;34m\u001b[0m\u001b[0m\n\u001b[0;32m---> 74\u001b[0;31m         \u001b[0;32mraise\u001b[0m \u001b[0mIOError\u001b[0m\u001b[0;34m(\u001b[0m\u001b[0;34m\"%s resolved to no files\"\u001b[0m \u001b[0;34m%\u001b[0m \u001b[0murlpath\u001b[0m\u001b[0;34m)\u001b[0m\u001b[0;34m\u001b[0m\u001b[0m\n\u001b[0m\u001b[1;32m     75\u001b[0m \u001b[0;34m\u001b[0m\u001b[0m\n\u001b[1;32m     76\u001b[0m     \u001b[0;32mif\u001b[0m \u001b[0mblocksize\u001b[0m \u001b[0;32mis\u001b[0m \u001b[0;32mnot\u001b[0m \u001b[0;32mNone\u001b[0m\u001b[0;34m:\u001b[0m\u001b[0;34m\u001b[0m\u001b[0m\n",
      "\u001b[0;31mOSError\u001b[0m: /Users/jasongangel/Downloads/AIS/data/Clean/Clean-01_16*.csv resolved to no files"
     ]
    }
   ],
   "source": [
    "#DATASHADER Plot of LAT/LONGS\n",
    "import datashader as ds\n",
    "import datashader.transfer_functions as tf\n",
    "import dask.dataframe as dd\n",
    "dd = dd.read_csv('/Users/jasongangel/Downloads/AIS/data/Clean/Clean-01_16*.csv').persist()\n",
    "\n",
    "canvas = ds.Canvas(plot_width=500, plot_height=300, \n",
    "                   x_range=(-8,8), y_range=(-8,8), \n",
    "                   x_axis_type='linear', y_axis_type='linear')\n",
    "\n",
    "%time tf.shade(ds.Canvas().points(dd,'LONG','LAT'))"
   ]
  },
  {
   "cell_type": "markdown",
   "metadata": {
    "nbpresent": {
     "id": "61abb177-e9cc-4663-8af1-f1ffbe55ab00"
    }
   },
   "source": [
    "#  Initial Data Look"
   ]
  },
  {
   "cell_type": "code",
   "execution_count": null,
   "metadata": {
    "nbpresent": {
     "id": "7a43b122-adf1-442c-ab3f-ef19acbfb203"
    },
    "scrolled": false
   },
   "outputs": [],
   "source": [
    "df.head(5)"
   ]
  },
  {
   "cell_type": "code",
   "execution_count": null,
   "metadata": {
    "nbpresent": {
     "id": "d26840d5-65e2-4357-82f5-95f349e986a2"
    }
   },
   "outputs": [],
   "source": [
    "#Dataframe Info (SHIP_TYPE and DRAUGHT contain bad str values in some cells thus they are detected as object types)\n",
    "df.info(memory_usage='deep')"
   ]
  },
  {
   "cell_type": "code",
   "execution_count": null,
   "metadata": {},
   "outputs": [],
   "source": [
    "# Stats : COG_DEG should not exceed 360 and SPEED_KNOTS should not exceed 35kts\n",
    "df.describe()"
   ]
  },
  {
   "cell_type": "code",
   "execution_count": null,
   "metadata": {
    "nbpresent": {
     "id": "72cd8ee6-37cf-4440-952d-9db55c84be85"
    }
   },
   "outputs": [],
   "source": [
    "#Percentage of Rows w/ Missing Data\n",
    "print((df.isnull().sum().sum()/df.shape[0])*100,'%')"
   ]
  },
  {
   "cell_type": "code",
   "execution_count": null,
   "metadata": {
    "nbpresent": {
     "id": "ae4d7440-d6f3-4f79-a92c-107f303b0a5e"
    }
   },
   "outputs": [],
   "source": [
    "#Missing data per column\n",
    "df.isnull().sum()"
   ]
  },
  {
   "cell_type": "markdown",
   "metadata": {
    "nbpresent": {
     "id": "717a3e65-57a6-45a5-8bf5-4edb237bab12"
    }
   },
   "source": [
    "# Data clean "
   ]
  },
  {
   "cell_type": "code",
   "execution_count": null,
   "metadata": {
    "nbpresent": {
     "id": "d89ceb7d-e26d-4845-a83e-b01093244d6c"
    }
   },
   "outputs": [],
   "source": [
    "#Copy df\n",
    "df1 = df.copy()"
   ]
  },
  {
   "cell_type": "markdown",
   "metadata": {
    "nbpresent": {
     "id": "224ca17b-fd08-4e24-a1ab-e50cee4b8869"
    }
   },
   "source": [
    "MMSI"
   ]
  },
  {
   "cell_type": "code",
   "execution_count": null,
   "metadata": {},
   "outputs": [],
   "source": [
    "#Number of individual Vessels\n",
    "print(df1['MMSI'].nunique(),'Individual Vessels')"
   ]
  },
  {
   "cell_type": "code",
   "execution_count": null,
   "metadata": {
    "nbpresent": {
     "id": "3fef03e1-1ac2-4937-87eb-4069811945fc"
    }
   },
   "outputs": [],
   "source": [
    "#Remove invalid MMSIs and sort by clean MMSIs\n",
    "df1=df[(df['MMSI'] > 200000000)]\n",
    "\n",
    "#Create Country Column from first three digits of MMSI\n",
    "df1['MMSI'] = df1['MMSI'].astype(str)\n",
    "df1['COUNTRY'] = df1['MMSI'].str.slice(start=0, stop=3)\n",
    "\n",
    "#Drop MMSI Column\n",
    "df1 = df1.drop(['MMSI'],axis=1)"
   ]
  },
  {
   "cell_type": "markdown",
   "metadata": {
    "nbpresent": {
     "id": "37c41c0a-b92a-49f6-b505-89ca5346e6d4"
    }
   },
   "source": [
    "SPEED_KNOTS"
   ]
  },
  {
   "cell_type": "code",
   "execution_count": null,
   "metadata": {
    "nbpresent": {
     "id": "1bb7d772-2d93-4308-a07a-525332c52d4e"
    }
   },
   "outputs": [],
   "source": [
    "#Drop null SPEED_KNOTS values\n",
    "df1.dropna(how='any', axis=0, subset=['SPEED_KNOTS'], inplace=True)\n",
    "\n",
    "#Drop Rows with speed over 35kts\n",
    "df1=df1[df1.SPEED_KNOTS <= 35]"
   ]
  },
  {
   "cell_type": "markdown",
   "metadata": {
    "nbpresent": {
     "id": "4c9bb2b5-243a-49bd-9a9a-034a62392134"
    }
   },
   "source": [
    "COG_DEG"
   ]
  },
  {
   "cell_type": "code",
   "execution_count": null,
   "metadata": {
    "nbpresent": {
     "id": "6e35caa3-6c27-4438-821b-4648cd5f00f3"
    }
   },
   "outputs": [],
   "source": [
    "#Remove any COG_DEG values above 360\n",
    "df1 = df1[(df1['COG_DEG'] <= 360)]\n",
    "\n",
    "#Forward fill COG_DEG Null values \n",
    "df1['COG_DEG'] = df1['COG_DEG'].fillna(method='ffill')\n",
    "\n",
    "#Remove excess float precision\n",
    "df1['COG_DEG'] = df1['COG_DEG'].astype(int)"
   ]
  },
  {
   "cell_type": "markdown",
   "metadata": {
    "nbpresent": {
     "id": "61caba71-5991-4495-aea4-572ae1845736"
    }
   },
   "source": [
    "SHIP_TYPE and DRAUGHT"
   ]
  },
  {
   "cell_type": "code",
   "execution_count": null,
   "metadata": {
    "nbpresent": {
     "id": "0fe931af-a5d3-455b-8a06-6e79b7466958"
    }
   },
   "outputs": [],
   "source": [
    "#Fill DRAUGHT null values with 0\n",
    "df1['DRAUGHT']= df1['DRAUGHT'].fillna(0)\n",
    "\n",
    "#Cast SHIP_TYPE  and DRAUGHT to numeric type and mark incompatable values as NAN\n",
    "df1[['SHIP_TYPE','DRAUGHT']] = df1[['SHIP_TYPE','DRAUGHT']].apply(pd.to_numeric,errors='coerce',axis=0)\n",
    "\n",
    "#Filter out vessel types other than Cargo and Tanker vessesls\n",
    "df1 = df1[(df1['SHIP_TYPE'] >= 70) & (df1['SHIP_TYPE'] <= 89)]\n",
    "\n",
    "#Cast SHIP_TYPE as a str\n",
    "df1['SHIP_TYPE'] = df1['SHIP_TYPE'].astype(str)\n",
    "\n",
    "#Remove second digit of SHIP_TYPE (has no significance)\n",
    "df1['SHIP_TYPE'] = df1['SHIP_TYPE'].str.slice(start=0, stop=1)\n",
    "\n",
    "#Change Back to int\n",
    "df1[['SHIP_TYPE']] = df1['SHIP_TYPE'].astype(int)\n",
    "\n",
    "#Display count of unique vessel types\n",
    "df1.SHIP_TYPE.value_counts()"
   ]
  },
  {
   "cell_type": "markdown",
   "metadata": {
    "nbpresent": {
     "id": "619ff996-4b2a-44cd-8064-87cd85b42c07"
    }
   },
   "source": [
    "Sort by Period"
   ]
  },
  {
   "cell_type": "code",
   "execution_count": null,
   "metadata": {},
   "outputs": [],
   "source": [
    "#Downcast float columns\n",
    "cols = ['SPEED_KNOTS','COG_DEG', 'DRAUGHT','LAT','LON']\n",
    "df1[cols] = df1[cols].round(2).apply(pd.to_numeric, downcast='float', axis=0)\n",
    "\n",
    "#Downcast int columns\n",
    "cols = ['SHIP_TYPE', 'COUNTRY']\n",
    "df1[cols] = df1[cols].apply(pd.to_numeric, downcast='unsigned', axis=0)\n",
    "\n",
    "#Sort by PERIOD\n",
    "df1 = df1.sort_values('PERIOD')"
   ]
  },
  {
   "cell_type": "markdown",
   "metadata": {
    "nbpresent": {
     "id": "96555532-18a8-437f-aa52-367fe1d8f8e6"
    }
   },
   "source": [
    "# Clean Data Analysis"
   ]
  },
  {
   "cell_type": "code",
   "execution_count": null,
   "metadata": {
    "nbpresent": {
     "id": "4476a9cf-a0ae-4964-a313-4497d54c8597"
    }
   },
   "outputs": [],
   "source": [
    "df1.head(10)"
   ]
  },
  {
   "cell_type": "code",
   "execution_count": null,
   "metadata": {},
   "outputs": [],
   "source": [
    "df1.tail(10)"
   ]
  },
  {
   "cell_type": "code",
   "execution_count": null,
   "metadata": {
    "nbpresent": {
     "id": "85097ec8-d604-425f-8327-7dc62b41019f"
    }
   },
   "outputs": [],
   "source": [
    "df1.info(memory_usage='deep')"
   ]
  },
  {
   "cell_type": "code",
   "execution_count": null,
   "metadata": {},
   "outputs": [],
   "source": [
    "df1.describe(include='all')"
   ]
  },
  {
   "cell_type": "code",
   "execution_count": null,
   "metadata": {
    "nbpresent": {
     "id": "39fb3ab0-0201-40cd-b792-27e535e3c9ff"
    }
   },
   "outputs": [],
   "source": [
    "#Check again for null values\n",
    "df1.isnull().sum()"
   ]
  },
  {
   "cell_type": "code",
   "execution_count": null,
   "metadata": {
    "nbpresent": {
     "id": "e34050f5-31e5-4c1d-8a51-01116d96a218"
    }
   },
   "outputs": [],
   "source": [
    "#SPEED_KNOTs Hist\n",
    "plt.figure(figsize=(10,4))\n",
    "sns.distplot(df1['SPEED_KNOTS'],kde=True,bins=30)"
   ]
  },
  {
   "cell_type": "code",
   "execution_count": null,
   "metadata": {
    "nbpresent": {
     "id": "a663d079-da4d-4cdc-826c-e1aedf4b94d1"
    }
   },
   "outputs": [],
   "source": [
    "#DRAUGHT Hist\n",
    "plt.figure(figsize=(10,4))\n",
    "sns.distplot(df1['DRAUGHT'],kde=True,bins=30)"
   ]
  },
  {
   "cell_type": "code",
   "execution_count": null,
   "metadata": {
    "nbpresent": {
     "id": "e3b71146-b987-47d5-8b27-a26078076452"
    }
   },
   "outputs": [],
   "source": [
    "# Box Plot of SPEED_KNOTS by Cargo(7) and Tanker(8) vessels\n",
    "plt.figure(figsize=(15,7))\n",
    "sns.boxplot(x='SHIP_TYPE', y='SPEED_KNOTS',data=df1)"
   ]
  },
  {
   "cell_type": "code",
   "execution_count": null,
   "metadata": {
    "nbpresent": {
     "id": "16c3e569-a606-4e8a-b34b-20cc573afb3b"
    }
   },
   "outputs": [],
   "source": [
    "#Box Plot Count by SHIP_TYPE\n",
    "plt.figure(figsize=(10,7))\n",
    "sns.countplot(x='SHIP_TYPE',data=df1)"
   ]
  },
  {
   "cell_type": "markdown",
   "metadata": {
    "nbpresent": {
     "id": "28a25bb9-5f01-4009-b713-b4825c949bca"
    }
   },
   "source": [
    "# Export"
   ]
  },
  {
   "cell_type": "code",
   "execution_count": null,
   "metadata": {
    "nbpresent": {
     "id": "de6fb02a-401c-48bf-b66d-e69d6f349588"
    }
   },
   "outputs": [],
   "source": [
    "#import csv\n",
    "#df1.to_csv('/Users/jasongangel/Downloads/AIS/data/Clean/Clean-01_16*.csv', index=False, encoding='utf-8')\n",
    "#quoting=csv.QUOTE_NONE"
   ]
  },
  {
   "cell_type": "code",
   "execution_count": null,
   "metadata": {},
   "outputs": [],
   "source": [
    "#from pandas import HDFStore,DataFrame\n",
    "\n",
    "# create (or open) an hdf5 file and opens in append mode\n",
    "#hdf = HDFStore('AIS_ALL.h5')\n",
    "\n",
    "# put the dataset in the storage\n",
    "#hdf.put('d1', df1, format='table', data_columns=True)\n",
    "\n",
    "#hdf.append()\n",
    "        \n",
    "#hdf.close() # closes the file"
   ]
  },
  {
   "cell_type": "code",
   "execution_count": null,
   "metadata": {},
   "outputs": [],
   "source": [
    "#hdf = pd.read_hdf('AIS_ALL.h5', key='d1', mode='r')\n",
    "#hdf.head()"
   ]
  }
 ],
 "metadata": {
  "kernelspec": {
   "display_name": "Python [default]",
   "language": "python",
   "name": "python3"
  },
  "language_info": {
   "codemirror_mode": {
    "name": "ipython",
    "version": 3
   },
   "file_extension": ".py",
   "mimetype": "text/x-python",
   "name": "python",
   "nbconvert_exporter": "python",
   "pygments_lexer": "ipython3",
   "version": "3.6.3"
  },
  "nbpresent": {
   "slides": {
    "0216b0cf-f56f-46ba-8f73-37746a8ccfc4": {
     "id": "0216b0cf-f56f-46ba-8f73-37746a8ccfc4",
     "prev": "8cd66e89-4a19-4914-93be-4cf7eeb03893",
     "regions": {
      "f470e395-e918-492d-b5e6-9e62a0bdca21": {
       "attrs": {
        "height": 0.8,
        "width": 0.8,
        "x": 0.1,
        "y": 0.1
       },
       "content": {
        "cell": "a663d079-da4d-4cdc-826c-e1aedf4b94d1",
        "part": "whole"
       },
       "id": "f470e395-e918-492d-b5e6-9e62a0bdca21"
      }
     }
    },
    "0ce67665-76c8-42ff-a9d8-c9c83974cd8e": {
     "id": "0ce67665-76c8-42ff-a9d8-c9c83974cd8e",
     "prev": "636e49b4-581f-46e4-add1-0681b659e800",
     "regions": {
      "594b113e-9a68-46f4-84e1-c8a6c8e1dca9": {
       "attrs": {
        "height": 0.8,
        "width": 0.8,
        "x": 0.1,
        "y": 0.1
       },
       "content": {
        "cell": "f8be0b1d-fd80-45a5-9fa6-eb64a72332ee",
        "part": "whole"
       },
       "id": "594b113e-9a68-46f4-84e1-c8a6c8e1dca9"
      }
     }
    },
    "1471aff7-ef69-45cb-922f-693e553f2084": {
     "id": "1471aff7-ef69-45cb-922f-693e553f2084",
     "prev": "81d0a0c0-dc80-4cf8-8d9f-8f4c2f9ba668",
     "regions": {
      "8085b4fc-c8d8-499f-baa6-c2bb80a3a156": {
       "attrs": {
        "height": 0.8,
        "width": 0.8,
        "x": 0.1,
        "y": 0.1
       },
       "content": {
        "cell": "4c9bb2b5-243a-49bd-9a9a-034a62392134",
        "part": "whole"
       },
       "id": "8085b4fc-c8d8-499f-baa6-c2bb80a3a156"
      }
     }
    },
    "14c5b88a-95a7-46ea-8526-7fdf73d8e3f1": {
     "id": "14c5b88a-95a7-46ea-8526-7fdf73d8e3f1",
     "prev": "a429625f-baf8-4573-8ba7-0e06268b40a5",
     "regions": {
      "df3e9d7b-3d04-4422-8176-875ee0b0cbad": {
       "attrs": {
        "height": 0.8,
        "width": 0.8,
        "x": 0.1,
        "y": 0.1
       },
       "content": {
        "cell": "224ca17b-fd08-4e24-a1ab-e50cee4b8869",
        "part": "whole"
       },
       "id": "df3e9d7b-3d04-4422-8176-875ee0b0cbad"
      }
     }
    },
    "179cdda4-a170-4319-9baa-ed4892dbfa8f": {
     "id": "179cdda4-a170-4319-9baa-ed4892dbfa8f",
     "prev": "fc74d1e9-67d7-4acf-9539-621c5c5d3288",
     "regions": {
      "80969665-438e-4ef5-a9af-57619cd2ef5d": {
       "attrs": {
        "height": 0.8,
        "width": 0.8,
        "x": 0.1,
        "y": 0.1
       },
       "content": {
        "cell": "a8425658-d1c8-4b0c-a684-36720d463e78",
        "part": "whole"
       },
       "id": "80969665-438e-4ef5-a9af-57619cd2ef5d"
      }
     }
    },
    "1a1c4910-2538-4414-ab05-b14fabd7aee8": {
     "id": "1a1c4910-2538-4414-ab05-b14fabd7aee8",
     "prev": "b80a5ca6-95c3-4d7d-bc3a-e85e9e0163e9",
     "regions": {
      "b8730352-2ba1-405e-8ae7-738322075293": {
       "attrs": {
        "height": 0.8,
        "width": 0.8,
        "x": 0.1,
        "y": 0.1
       },
       "content": {
        "cell": "d26840d5-65e2-4357-82f5-95f349e986a2",
        "part": "whole"
       },
       "id": "b8730352-2ba1-405e-8ae7-738322075293"
      }
     }
    },
    "24d20b44-f907-49a8-bfc0-2e6f7bd22e1f": {
     "id": "24d20b44-f907-49a8-bfc0-2e6f7bd22e1f",
     "prev": "db309e05-5429-4319-a790-3308c936cacd",
     "regions": {
      "236ded0a-1bb3-487d-8c49-f65ae0b06ec3": {
       "attrs": {
        "height": 0.8,
        "width": 0.8,
        "x": 0.1,
        "y": 0.1
       },
       "content": {
        "cell": "27d218d8-dc14-41d6-ad34-7fc2d4b5da4f",
        "part": "whole"
       },
       "id": "236ded0a-1bb3-487d-8c49-f65ae0b06ec3"
      }
     }
    },
    "3585a9ab-505b-4757-bb33-da7b0a464a58": {
     "id": "3585a9ab-505b-4757-bb33-da7b0a464a58",
     "prev": null,
     "regions": {
      "fc7e7e5f-2835-4156-a74a-b5e234950604": {
       "attrs": {
        "height": 0.8,
        "width": 0.8,
        "x": 0.1,
        "y": 0.1
       },
       "content": {
        "cell": "c624337c-f7ad-4816-93bf-954246032d6f",
        "part": "whole"
       },
       "id": "fc7e7e5f-2835-4156-a74a-b5e234950604"
      }
     }
    },
    "3d30053b-6a83-43b1-bc7f-b1844c12e8f0": {
     "id": "3d30053b-6a83-43b1-bc7f-b1844c12e8f0",
     "prev": "a989288d-186f-457b-9456-cc404a956b48",
     "regions": {
      "810233e8-000f-4854-b4f0-494389c0d0fa": {
       "attrs": {
        "height": 0.8,
        "width": 0.8,
        "x": 0.1,
        "y": 0.1
       },
       "content": {
        "cell": "47c97476-1013-4814-aab0-ef71bb1c3d58",
        "part": "whole"
       },
       "id": "810233e8-000f-4854-b4f0-494389c0d0fa"
      }
     }
    },
    "40dfa8fd-5ca0-4861-abc9-13ba4ebe1ce2": {
     "id": "40dfa8fd-5ca0-4861-abc9-13ba4ebe1ce2",
     "prev": "179cdda4-a170-4319-9baa-ed4892dbfa8f",
     "regions": {
      "9795f199-94ba-42f6-98b2-130685b24375": {
       "attrs": {
        "height": 0.8,
        "width": 0.8,
        "x": 0.1,
        "y": 0.1
       },
       "content": {
        "cell": "717a3e65-57a6-45a5-8bf5-4edb237bab12",
        "part": "whole"
       },
       "id": "9795f199-94ba-42f6-98b2-130685b24375"
      }
     }
    },
    "4692d71c-90c2-4ae8-8093-7b17381779c0": {
     "id": "4692d71c-90c2-4ae8-8093-7b17381779c0",
     "prev": "945dd8d1-13c8-45e0-b252-6ea4ecad4ecc",
     "regions": {
      "79878ad3-5dc7-4f27-9df3-f0514567ccfc": {
       "attrs": {
        "height": 0.8,
        "width": 0.8,
        "x": 0.1,
        "y": 0.1
       },
       "content": {
        "cell": "e670db45-3b60-4632-9b53-347274630c76",
        "part": "whole"
       },
       "id": "79878ad3-5dc7-4f27-9df3-f0514567ccfc"
      }
     }
    },
    "54622469-234e-4caf-9689-f420023e354e": {
     "id": "54622469-234e-4caf-9689-f420023e354e",
     "prev": "24d20b44-f907-49a8-bfc0-2e6f7bd22e1f",
     "regions": {
      "8b279316-d6b2-4d2a-bb23-9bbd98ad29fc": {
       "attrs": {
        "height": 0.8,
        "width": 0.8,
        "x": 0.1,
        "y": 0.1
       },
       "content": {
        "cell": "28a25bb9-5f01-4009-b713-b4825c949bca",
        "part": "whole"
       },
       "id": "8b279316-d6b2-4d2a-bb23-9bbd98ad29fc"
      }
     }
    },
    "549e6cce-b1bf-4761-a8f8-0856cdbd81ca": {
     "id": "549e6cce-b1bf-4761-a8f8-0856cdbd81ca",
     "prev": "0ce67665-76c8-42ff-a9d8-c9c83974cd8e",
     "regions": {
      "0dec4827-4d82-4a5c-9cee-f2e9aa118ab1": {
       "attrs": {
        "height": 0.8,
        "width": 0.8,
        "x": 0.1,
        "y": 0.1
       },
       "content": {
        "cell": "b456826b-0307-40b1-8ca4-3914b77ff6b0",
        "part": "whole"
       },
       "id": "0dec4827-4d82-4a5c-9cee-f2e9aa118ab1"
      }
     }
    },
    "636e49b4-581f-46e4-add1-0681b659e800": {
     "id": "636e49b4-581f-46e4-add1-0681b659e800",
     "prev": "8f835331-1227-406e-a3ce-a1450ca5d231",
     "regions": {
      "09b428f7-e825-4e09-9b70-59e6e61b74f3": {
       "attrs": {
        "height": 0.8,
        "width": 0.8,
        "x": 0.1,
        "y": 0.1
       },
       "content": {
        "cell": "a6a7f91a-46a3-43bc-be90-79ade7340953",
        "part": "whole"
       },
       "id": "09b428f7-e825-4e09-9b70-59e6e61b74f3"
      }
     }
    },
    "6926b6ba-cad5-4b3c-9d57-a2756e17808d": {
     "id": "6926b6ba-cad5-4b3c-9d57-a2756e17808d",
     "prev": "1a1c4910-2538-4414-ab05-b14fabd7aee8",
     "regions": {
      "58879860-24c1-483c-b413-34688ba5fd6a": {
       "attrs": {
        "height": 0.8,
        "width": 0.8,
        "x": 0.1,
        "y": 0.1
       },
       "content": {
        "cell": "72cd8ee6-37cf-4440-952d-9db55c84be85",
        "part": "whole"
       },
       "id": "58879860-24c1-483c-b413-34688ba5fd6a"
      }
     }
    },
    "736b815b-4296-4e39-a82f-161940efcfe4": {
     "id": "736b815b-4296-4e39-a82f-161940efcfe4",
     "prev": "dca02159-f5e8-4ad9-a7a8-2484c73e2de0",
     "regions": {
      "1b6fac07-8b11-4381-b8c7-6ff23d2e7cfe": {
       "attrs": {
        "height": 0.8,
        "width": 0.8,
        "x": 0.1,
        "y": 0.1
       },
       "content": {
        "cell": "4476a9cf-a0ae-4964-a313-4497d54c8597",
        "part": "whole"
       },
       "id": "1b6fac07-8b11-4381-b8c7-6ff23d2e7cfe"
      }
     }
    },
    "81d0a0c0-dc80-4cf8-8d9f-8f4c2f9ba668": {
     "id": "81d0a0c0-dc80-4cf8-8d9f-8f4c2f9ba668",
     "prev": "b20c0ee2-2791-49ee-b088-77f728822fe4",
     "regions": {
      "0abcaf33-a83f-40ac-b6d0-b31dae70e98b": {
       "attrs": {
        "height": 0.8,
        "width": 0.8,
        "x": 0.1,
        "y": 0.1
       },
       "content": {
        "cell": "cc0e8a5c-3878-4018-b3d0-af8e886e0821",
        "part": "whole"
       },
       "id": "0abcaf33-a83f-40ac-b6d0-b31dae70e98b"
      }
     }
    },
    "8cd66e89-4a19-4914-93be-4cf7eeb03893": {
     "id": "8cd66e89-4a19-4914-93be-4cf7eeb03893",
     "prev": "8e022150-65a9-4926-9dd5-61f62508155a",
     "regions": {
      "4ec329eb-8747-4bc8-a8e3-259992c5b93b": {
       "attrs": {
        "height": 0.8,
        "width": 0.8,
        "x": 0.1,
        "y": 0.1
       },
       "content": {
        "cell": "e3b71146-b987-47d5-8b27-a26078076452",
        "part": "whole"
       },
       "id": "4ec329eb-8747-4bc8-a8e3-259992c5b93b"
      }
     }
    },
    "8e022150-65a9-4926-9dd5-61f62508155a": {
     "id": "8e022150-65a9-4926-9dd5-61f62508155a",
     "prev": "bbb1b8be-be4a-47cb-a4e0-71fb518d6be1",
     "regions": {
      "6852978b-da0b-41e5-aec3-9bb7356e9b33": {
       "attrs": {
        "height": 0.8,
        "width": 0.8,
        "x": 0.1,
        "y": 0.1
       },
       "content": {
        "cell": "e34050f5-31e5-4c1d-8a51-01116d96a218",
        "part": "whole"
       },
       "id": "6852978b-da0b-41e5-aec3-9bb7356e9b33"
      }
     }
    },
    "8f835331-1227-406e-a3ce-a1450ca5d231": {
     "id": "8f835331-1227-406e-a3ce-a1450ca5d231",
     "prev": "4692d71c-90c2-4ae8-8093-7b17381779c0",
     "regions": {
      "33a25593-7c08-494a-9338-c76482e79551": {
       "attrs": {
        "height": 0.8,
        "width": 0.8,
        "x": 0.1,
        "y": 0.1
       },
       "content": {
        "cell": "e993b639-5b05-4261-aaec-cf768d45788f",
        "part": "whole"
       },
       "id": "33a25593-7c08-494a-9338-c76482e79551"
      }
     }
    },
    "9211fc4f-0d21-407f-8de8-af8f1577a771": {
     "id": "9211fc4f-0d21-407f-8de8-af8f1577a771",
     "prev": "549e6cce-b1bf-4761-a8f8-0856cdbd81ca",
     "regions": {
      "d8bdc0a5-be47-43a5-96da-7aaa278273b7": {
       "attrs": {
        "height": 0.8,
        "width": 0.8,
        "x": 0.1,
        "y": 0.1
       },
       "content": {
        "cell": "6306a017-a66f-47c7-83ab-b1417ab2d0a9",
        "part": "whole"
       },
       "id": "d8bdc0a5-be47-43a5-96da-7aaa278273b7"
      }
     }
    },
    "945dd8d1-13c8-45e0-b252-6ea4ecad4ecc": {
     "id": "945dd8d1-13c8-45e0-b252-6ea4ecad4ecc",
     "prev": "9c696193-a996-4109-8305-860ef389e060",
     "regions": {
      "a25060bb-128d-46f9-ba6f-e2bbf4ecf8cc": {
       "attrs": {
        "height": 0.8,
        "width": 0.8,
        "x": 0.1,
        "y": 0.1
       },
       "content": {
        "cell": "9a29089f-82c2-4e1e-b537-940114699284",
        "part": "whole"
       },
       "id": "a25060bb-128d-46f9-ba6f-e2bbf4ecf8cc"
      }
     }
    },
    "9aa136b7-413c-4670-9461-3ecf259b3971": {
     "id": "9aa136b7-413c-4670-9461-3ecf259b3971",
     "prev": "9fd56ac7-065c-48e3-b677-553c9af50353",
     "regions": {
      "0d6ffcc6-e351-4094-885e-6bdcb0eb0385": {
       "attrs": {
        "height": 0.8,
        "width": 0.8,
        "x": 0.1,
        "y": 0.1
       },
       "content": {
        "cell": "0fe931af-a5d3-455b-8a06-6e79b7466958",
        "part": "whole"
       },
       "id": "0d6ffcc6-e351-4094-885e-6bdcb0eb0385"
      }
     }
    },
    "9c696193-a996-4109-8305-860ef389e060": {
     "id": "9c696193-a996-4109-8305-860ef389e060",
     "prev": "0216b0cf-f56f-46ba-8f73-37746a8ccfc4",
     "regions": {
      "a2fbbe0f-b843-4f6b-9c70-f1672be8e103": {
       "attrs": {
        "height": 0.8,
        "width": 0.8,
        "x": 0.1,
        "y": 0.1
       },
       "content": {
        "cell": "16c3e569-a606-4e8a-b34b-20cc573afb3b",
        "part": "whole"
       },
       "id": "a2fbbe0f-b843-4f6b-9c70-f1672be8e103"
      }
     }
    },
    "9fd56ac7-065c-48e3-b677-553c9af50353": {
     "id": "9fd56ac7-065c-48e3-b677-553c9af50353",
     "prev": "c15eb5e6-0322-407e-9018-0635556823dc",
     "regions": {
      "26dadb66-7fc0-440c-9315-e8befe94f821": {
       "attrs": {
        "height": 0.8,
        "width": 0.8,
        "x": 0.1,
        "y": 0.1
       },
       "content": {
        "cell": "61caba71-5991-4495-aea4-572ae1845736",
        "part": "whole"
       },
       "id": "26dadb66-7fc0-440c-9315-e8befe94f821"
      }
     }
    },
    "a429625f-baf8-4573-8ba7-0e06268b40a5": {
     "id": "a429625f-baf8-4573-8ba7-0e06268b40a5",
     "prev": "40dfa8fd-5ca0-4861-abc9-13ba4ebe1ce2",
     "regions": {
      "278a8bc6-80a0-4a4f-b690-d115cb79e00d": {
       "attrs": {
        "height": 0.8,
        "width": 0.8,
        "x": 0.1,
        "y": 0.1
       },
       "content": {
        "cell": "d89ceb7d-e26d-4845-a83e-b01093244d6c",
        "part": "whole"
       },
       "id": "278a8bc6-80a0-4a4f-b690-d115cb79e00d"
      }
     }
    },
    "a8478b1c-f342-42a1-b73a-4c55bf4122d0": {
     "id": "a8478b1c-f342-42a1-b73a-4c55bf4122d0",
     "prev": "14c5b88a-95a7-46ea-8526-7fdf73d8e3f1",
     "regions": {
      "3221fdc9-cf68-430c-93bf-e02eee870e1e": {
       "attrs": {
        "height": 0.8,
        "width": 0.8,
        "x": 0.1,
        "y": 0.1
       },
       "content": {
        "cell": "3fef03e1-1ac2-4937-87eb-4069811945fc",
        "part": "whole"
       },
       "id": "3221fdc9-cf68-430c-93bf-e02eee870e1e"
      }
     }
    },
    "a8954c57-9fd3-4128-8f85-ea35063fda07": {
     "id": "a8954c57-9fd3-4128-8f85-ea35063fda07",
     "prev": "736b815b-4296-4e39-a82f-161940efcfe4",
     "regions": {
      "fc1a6562-48c2-409e-95f7-8155fc79a3f3": {
       "attrs": {
        "height": 0.8,
        "width": 0.8,
        "x": 0.1,
        "y": 0.1
       },
       "content": {
        "cell": "85097ec8-d604-425f-8327-7dc62b41019f",
        "part": "whole"
       },
       "id": "fc1a6562-48c2-409e-95f7-8155fc79a3f3"
      }
     }
    },
    "a989288d-186f-457b-9456-cc404a956b48": {
     "id": "a989288d-186f-457b-9456-cc404a956b48",
     "prev": "b566b672-91c6-4be3-ad2b-ab915fb5a3ab",
     "regions": {
      "59521b40-1be8-4367-b399-70d6555ad474": {
       "attrs": {
        "height": 0.8,
        "width": 0.8,
        "x": 0.1,
        "y": 0.1
       },
       "content": {
        "cell": "bb8b5e17-e583-49d7-beff-69feb9a3cb42",
        "part": "whole"
       },
       "id": "59521b40-1be8-4367-b399-70d6555ad474"
      }
     }
    },
    "b20c0ee2-2791-49ee-b088-77f728822fe4": {
     "id": "b20c0ee2-2791-49ee-b088-77f728822fe4",
     "prev": "fadd7289-80e7-4cb4-9375-b747f7b6d465",
     "regions": {
      "e63204fc-2f6f-457a-9a05-c17237fb803e": {
       "attrs": {
        "height": 0.8,
        "width": 0.8,
        "x": 0.1,
        "y": 0.1
       },
       "content": {
        "cell": "1bb7d772-2d93-4308-a07a-525332c52d4e",
        "part": "whole"
       },
       "id": "e63204fc-2f6f-457a-9a05-c17237fb803e"
      }
     }
    },
    "b566b672-91c6-4be3-ad2b-ab915fb5a3ab": {
     "id": "b566b672-91c6-4be3-ad2b-ab915fb5a3ab",
     "prev": "54622469-234e-4caf-9689-f420023e354e",
     "regions": {
      "60f3edff-a187-40f1-95aa-c8bb00add74d": {
       "attrs": {
        "height": 0.8,
        "width": 0.8,
        "x": 0.1,
        "y": 0.1
       },
       "content": {
        "cell": "de6fb02a-401c-48bf-b66d-e69d6f349588",
        "part": "whole"
       },
       "id": "60f3edff-a187-40f1-95aa-c8bb00add74d"
      }
     }
    },
    "b7974c1b-243e-407d-b49c-27f726e22c7d": {
     "id": "b7974c1b-243e-407d-b49c-27f726e22c7d",
     "prev": "eec1d943-5495-4e53-a5aa-ea8c51ab830e",
     "regions": {
      "66b09043-ea5d-44ae-837e-413fdef965b9": {
       "attrs": {
        "height": 0.8,
        "width": 0.8,
        "x": 0.1,
        "y": 0.1
       },
       "content": {
        "cell": "61abb177-e9cc-4663-8af1-f1ffbe55ab00",
        "part": "whole"
       },
       "id": "66b09043-ea5d-44ae-837e-413fdef965b9"
      }
     }
    },
    "b7ccf4c9-3a3e-43f7-8ccf-287eae6e2469": {
     "id": "b7ccf4c9-3a3e-43f7-8ccf-287eae6e2469",
     "prev": "a8954c57-9fd3-4128-8f85-ea35063fda07",
     "regions": {
      "c1a3f824-4855-48d9-b899-40b2e6574bd7": {
       "attrs": {
        "height": 0.8,
        "width": 0.8,
        "x": 0.1,
        "y": 0.1
       },
       "content": {
        "cell": "9c8162ad-9dd4-4ae4-876b-88de180aa527",
        "part": "whole"
       },
       "id": "c1a3f824-4855-48d9-b899-40b2e6574bd7"
      }
     }
    },
    "b80a5ca6-95c3-4d7d-bc3a-e85e9e0163e9": {
     "id": "b80a5ca6-95c3-4d7d-bc3a-e85e9e0163e9",
     "prev": "b7974c1b-243e-407d-b49c-27f726e22c7d",
     "regions": {
      "8dab4885-6cdc-41c2-a85c-39fe73acfef8": {
       "attrs": {
        "height": 0.8,
        "width": 0.8,
        "x": 0.1,
        "y": 0.1
       },
       "content": {
        "cell": "7a43b122-adf1-442c-ab3f-ef19acbfb203",
        "part": "whole"
       },
       "id": "8dab4885-6cdc-41c2-a85c-39fe73acfef8"
      }
     }
    },
    "bbb1b8be-be4a-47cb-a4e0-71fb518d6be1": {
     "id": "bbb1b8be-be4a-47cb-a4e0-71fb518d6be1",
     "prev": "b7ccf4c9-3a3e-43f7-8ccf-287eae6e2469",
     "regions": {
      "58618a3e-d84a-4a7e-ac3a-45c50464a63f": {
       "attrs": {
        "height": 0.8,
        "width": 0.8,
        "x": 0.1,
        "y": 0.1
       },
       "content": {
        "cell": "39fb3ab0-0201-40cd-b792-27e535e3c9ff",
        "part": "whole"
       },
       "id": "58618a3e-d84a-4a7e-ac3a-45c50464a63f"
      }
     }
    },
    "c15eb5e6-0322-407e-9018-0635556823dc": {
     "id": "c15eb5e6-0322-407e-9018-0635556823dc",
     "prev": "1471aff7-ef69-45cb-922f-693e553f2084",
     "regions": {
      "e9c3f86e-02c3-4c13-9c44-fa6c004af73f": {
       "attrs": {
        "height": 0.8,
        "width": 0.8,
        "x": 0.1,
        "y": 0.1
       },
       "content": {
        "cell": "6e35caa3-6c27-4438-821b-4648cd5f00f3",
        "part": "whole"
       },
       "id": "e9c3f86e-02c3-4c13-9c44-fa6c004af73f"
      }
     }
    },
    "db309e05-5429-4319-a790-3308c936cacd": {
     "id": "db309e05-5429-4319-a790-3308c936cacd",
     "prev": "9211fc4f-0d21-407f-8de8-af8f1577a771",
     "regions": {
      "1dc2fec9-6b2d-460f-9e3a-404b9ce3182b": {
       "attrs": {
        "height": 0.8,
        "width": 0.8,
        "x": 0.1,
        "y": 0.1
       },
       "content": {
        "cell": "73b34df4-0e37-49d8-bcc8-99977b3d400f",
        "part": "whole"
       },
       "id": "1dc2fec9-6b2d-460f-9e3a-404b9ce3182b"
      }
     }
    },
    "dca02159-f5e8-4ad9-a7a8-2484c73e2de0": {
     "id": "dca02159-f5e8-4ad9-a7a8-2484c73e2de0",
     "prev": "f2c9d4f9-c01d-4073-b5c1-82791b729a36",
     "regions": {
      "af17a5e6-780d-479f-add8-86a2cc1aee8e": {
       "attrs": {
        "height": 0.8,
        "width": 0.8,
        "x": 0.1,
        "y": 0.1
       },
       "content": {
        "cell": "4d3207ed-d5fe-40ab-9573-7ee4f4153ccf",
        "part": "whole"
       },
       "id": "af17a5e6-780d-479f-add8-86a2cc1aee8e"
      }
     }
    },
    "e0f09953-f931-4c90-b7ed-eea9b6ab9361": {
     "id": "e0f09953-f931-4c90-b7ed-eea9b6ab9361",
     "prev": "3d30053b-6a83-43b1-bc7f-b1844c12e8f0",
     "regions": {
      "9a39f94c-d900-4026-83a2-59a84fab096e": {
       "attrs": {
        "height": 0.8,
        "width": 0.8,
        "x": 0.1,
        "y": 0.1
       },
       "content": {
        "cell": "08e337eb-5b65-4143-824e-25016b409be8",
        "part": "whole"
       },
       "id": "9a39f94c-d900-4026-83a2-59a84fab096e"
      }
     }
    },
    "eec1d943-5495-4e53-a5aa-ea8c51ab830e": {
     "id": "eec1d943-5495-4e53-a5aa-ea8c51ab830e",
     "prev": "3585a9ab-505b-4757-bb33-da7b0a464a58",
     "regions": {
      "2fcce14b-7209-41b6-88f4-76f23695a184": {
       "attrs": {
        "height": 0.8,
        "width": 0.8,
        "x": 0.1,
        "y": 0.1
       },
       "content": {
        "cell": "a32daceb-e14a-4c56-9682-cd3294eaf480",
        "part": "whole"
       },
       "id": "2fcce14b-7209-41b6-88f4-76f23695a184"
      }
     }
    },
    "f2c9d4f9-c01d-4073-b5c1-82791b729a36": {
     "id": "f2c9d4f9-c01d-4073-b5c1-82791b729a36",
     "prev": "9aa136b7-413c-4670-9461-3ecf259b3971",
     "regions": {
      "5f0988c8-698d-402e-8fbb-5d87beb32248": {
       "attrs": {
        "height": 0.8,
        "width": 0.8,
        "x": 0.1,
        "y": 0.1
       },
       "content": {
        "cell": "619ff996-4b2a-44cd-8064-87cd85b42c07",
        "part": "whole"
       },
       "id": "5f0988c8-698d-402e-8fbb-5d87beb32248"
      }
     }
    },
    "fadd7289-80e7-4cb4-9375-b747f7b6d465": {
     "id": "fadd7289-80e7-4cb4-9375-b747f7b6d465",
     "prev": "a8478b1c-f342-42a1-b73a-4c55bf4122d0",
     "regions": {
      "c25b3ef7-4390-4664-a3d0-8ce8edd5ce56": {
       "attrs": {
        "height": 0.8,
        "width": 0.8,
        "x": 0.1,
        "y": 0.1
       },
       "content": {
        "cell": "37c41c0a-b92a-49f6-b505-89ca5346e6d4",
        "part": "whole"
       },
       "id": "c25b3ef7-4390-4664-a3d0-8ce8edd5ce56"
      }
     }
    },
    "fc74d1e9-67d7-4acf-9539-621c5c5d3288": {
     "id": "fc74d1e9-67d7-4acf-9539-621c5c5d3288",
     "prev": "6926b6ba-cad5-4b3c-9d57-a2756e17808d",
     "regions": {
      "85e812a9-c8d6-4d8f-b4d5-0e9580d460b5": {
       "attrs": {
        "height": 0.8,
        "width": 0.8,
        "x": 0.1,
        "y": 0.1
       },
       "content": {
        "cell": "ae4d7440-d6f3-4f79-a92c-107f303b0a5e",
        "part": "whole"
       },
       "id": "85e812a9-c8d6-4d8f-b4d5-0e9580d460b5"
      }
     }
    }
   },
   "themes": {}
  }
 },
 "nbformat": 4,
 "nbformat_minor": 2
}
