{
 "cells": [
  {
   "cell_type": "code",
   "execution_count": 1,
   "metadata": {},
   "outputs": [
    {
     "data": {
      "text/html": [
       "<div>\n",
       "<style>\n",
       "    .dataframe thead tr:only-child th {\n",
       "        text-align: right;\n",
       "    }\n",
       "\n",
       "    .dataframe thead th {\n",
       "        text-align: left;\n",
       "    }\n",
       "\n",
       "    .dataframe tbody tr th {\n",
       "        vertical-align: top;\n",
       "    }\n",
       "</style>\n",
       "<table border=\"1\" class=\"dataframe\">\n",
       "  <thead>\n",
       "    <tr style=\"text-align: right;\">\n",
       "      <th></th>\n",
       "      <th>MMSI</th>\n",
       "      <th>PERIOD</th>\n",
       "      <th>LAT</th>\n",
       "      <th>LON</th>\n",
       "      <th>SPEED_KNOTS</th>\n",
       "      <th>COG_DEG</th>\n",
       "    </tr>\n",
       "  </thead>\n",
       "  <tbody>\n",
       "    <tr>\n",
       "      <th>0</th>\n",
       "      <td>304010886</td>\n",
       "      <td>2017-01-08 00:05:00</td>\n",
       "      <td>8.708393</td>\n",
       "      <td>-59.273870</td>\n",
       "      <td>15.1</td>\n",
       "      <td>299</td>\n",
       "    </tr>\n",
       "    <tr>\n",
       "      <th>1</th>\n",
       "      <td>304010886</td>\n",
       "      <td>2017-01-08 00:10:00</td>\n",
       "      <td>8.716595</td>\n",
       "      <td>-59.287730</td>\n",
       "      <td>15.1</td>\n",
       "      <td>302</td>\n",
       "    </tr>\n",
       "    <tr>\n",
       "      <th>2</th>\n",
       "      <td>304010886</td>\n",
       "      <td>2017-01-08 00:40:00</td>\n",
       "      <td>8.778348</td>\n",
       "      <td>-59.389675</td>\n",
       "      <td>15.2</td>\n",
       "      <td>299</td>\n",
       "    </tr>\n",
       "    <tr>\n",
       "      <th>3</th>\n",
       "      <td>304010886</td>\n",
       "      <td>2017-01-08 00:45:00</td>\n",
       "      <td>8.789870</td>\n",
       "      <td>-59.407516</td>\n",
       "      <td>15.0</td>\n",
       "      <td>304</td>\n",
       "    </tr>\n",
       "    <tr>\n",
       "      <th>4</th>\n",
       "      <td>304010886</td>\n",
       "      <td>2017-01-08 01:10:00</td>\n",
       "      <td>8.857926</td>\n",
       "      <td>-59.512920</td>\n",
       "      <td>15.1</td>\n",
       "      <td>301</td>\n",
       "    </tr>\n",
       "  </tbody>\n",
       "</table>\n",
       "</div>"
      ],
      "text/plain": [
       "        MMSI              PERIOD       LAT        LON  SPEED_KNOTS  COG_DEG\n",
       "0  304010886 2017-01-08 00:05:00  8.708393 -59.273870         15.1      299\n",
       "1  304010886 2017-01-08 00:10:00  8.716595 -59.287730         15.1      302\n",
       "2  304010886 2017-01-08 00:40:00  8.778348 -59.389675         15.2      299\n",
       "3  304010886 2017-01-08 00:45:00  8.789870 -59.407516         15.0      304\n",
       "4  304010886 2017-01-08 01:10:00  8.857926 -59.512920         15.1      301"
      ]
     },
     "execution_count": 1,
     "metadata": {},
     "output_type": "execute_result"
    }
   ],
   "source": [
    "import pandas as pd\n",
    "import matplotlib.pyplot as plt\n",
    "import numpy as np\n",
    "import seaborn as sns\n",
    "import datetime\n",
    "from sklearn import preprocessing\n",
    "from math import radians, cos, sin, asin, sqrt\n",
    "%matplotlib inline\n",
    "\n",
    "df = pd.read_csv('/Users/jasongangel/Downloads/AIS/data/304010886Combined.csv',usecols=['MMSI','PERIOD', 'LAT', 'LON','SPEED_KNOTS', 'COG_DEG'], parse_dates=['PERIOD'])\n",
    "df.head()"
   ]
  },
  {
   "cell_type": "code",
   "execution_count": 2,
   "metadata": {},
   "outputs": [
    {
     "name": "stdout",
     "output_type": "stream",
     "text": [
      "<class 'pandas.core.frame.DataFrame'>\n",
      "RangeIndex: 40536 entries, 0 to 40535\n",
      "Data columns (total 6 columns):\n",
      "MMSI           40536 non-null int64\n",
      "PERIOD         40536 non-null datetime64[ns]\n",
      "LAT            40536 non-null float64\n",
      "LON            40536 non-null float64\n",
      "SPEED_KNOTS    40536 non-null float64\n",
      "COG_DEG        40536 non-null int64\n",
      "dtypes: datetime64[ns](1), float64(3), int64(2)\n",
      "memory usage: 1.9 MB\n"
     ]
    }
   ],
   "source": [
    "df.info()"
   ]
  },
  {
   "cell_type": "code",
   "execution_count": 4,
   "metadata": {},
   "outputs": [
    {
     "data": {
      "text/html": [
       "<div>\n",
       "<style>\n",
       "    .dataframe thead tr:only-child th {\n",
       "        text-align: right;\n",
       "    }\n",
       "\n",
       "    .dataframe thead th {\n",
       "        text-align: left;\n",
       "    }\n",
       "\n",
       "    .dataframe tbody tr th {\n",
       "        vertical-align: top;\n",
       "    }\n",
       "</style>\n",
       "<table border=\"1\" class=\"dataframe\">\n",
       "  <thead>\n",
       "    <tr style=\"text-align: right;\">\n",
       "      <th></th>\n",
       "      <th>MMSI</th>\n",
       "      <th>PERIOD</th>\n",
       "      <th>LAT</th>\n",
       "      <th>LON</th>\n",
       "      <th>SPEED_KNOTS</th>\n",
       "      <th>COG_DEG</th>\n",
       "    </tr>\n",
       "  </thead>\n",
       "  <tbody>\n",
       "    <tr>\n",
       "      <th>count</th>\n",
       "      <td>40536.0</td>\n",
       "      <td>40536</td>\n",
       "      <td>40536.000000</td>\n",
       "      <td>40536.000000</td>\n",
       "      <td>40536.000000</td>\n",
       "      <td>40536.000000</td>\n",
       "    </tr>\n",
       "    <tr>\n",
       "      <th>unique</th>\n",
       "      <td>NaN</td>\n",
       "      <td>40536</td>\n",
       "      <td>NaN</td>\n",
       "      <td>NaN</td>\n",
       "      <td>NaN</td>\n",
       "      <td>NaN</td>\n",
       "    </tr>\n",
       "    <tr>\n",
       "      <th>top</th>\n",
       "      <td>NaN</td>\n",
       "      <td>2017-05-13 14:15:00</td>\n",
       "      <td>NaN</td>\n",
       "      <td>NaN</td>\n",
       "      <td>NaN</td>\n",
       "      <td>NaN</td>\n",
       "    </tr>\n",
       "    <tr>\n",
       "      <th>freq</th>\n",
       "      <td>NaN</td>\n",
       "      <td>1</td>\n",
       "      <td>NaN</td>\n",
       "      <td>NaN</td>\n",
       "      <td>NaN</td>\n",
       "      <td>NaN</td>\n",
       "    </tr>\n",
       "    <tr>\n",
       "      <th>first</th>\n",
       "      <td>NaN</td>\n",
       "      <td>2016-01-08 16:50:00</td>\n",
       "      <td>NaN</td>\n",
       "      <td>NaN</td>\n",
       "      <td>NaN</td>\n",
       "      <td>NaN</td>\n",
       "    </tr>\n",
       "    <tr>\n",
       "      <th>last</th>\n",
       "      <td>NaN</td>\n",
       "      <td>2018-01-07 00:55:00</td>\n",
       "      <td>NaN</td>\n",
       "      <td>NaN</td>\n",
       "      <td>NaN</td>\n",
       "      <td>NaN</td>\n",
       "    </tr>\n",
       "    <tr>\n",
       "      <th>mean</th>\n",
       "      <td>304010886.0</td>\n",
       "      <td>NaN</td>\n",
       "      <td>16.095483</td>\n",
       "      <td>-75.413379</td>\n",
       "      <td>6.247496</td>\n",
       "      <td>219.019760</td>\n",
       "    </tr>\n",
       "    <tr>\n",
       "      <th>std</th>\n",
       "      <td>0.0</td>\n",
       "      <td>NaN</td>\n",
       "      <td>9.001522</td>\n",
       "      <td>14.165983</td>\n",
       "      <td>6.324303</td>\n",
       "      <td>91.626598</td>\n",
       "    </tr>\n",
       "    <tr>\n",
       "      <th>min</th>\n",
       "      <td>304010886.0</td>\n",
       "      <td>NaN</td>\n",
       "      <td>-18.474384</td>\n",
       "      <td>-97.884820</td>\n",
       "      <td>0.000000</td>\n",
       "      <td>0.000000</td>\n",
       "    </tr>\n",
       "    <tr>\n",
       "      <th>25%</th>\n",
       "      <td>304010886.0</td>\n",
       "      <td>NaN</td>\n",
       "      <td>10.406163</td>\n",
       "      <td>-94.557290</td>\n",
       "      <td>0.000000</td>\n",
       "      <td>131.000000</td>\n",
       "    </tr>\n",
       "    <tr>\n",
       "      <th>50%</th>\n",
       "      <td>304010886.0</td>\n",
       "      <td>NaN</td>\n",
       "      <td>11.837763</td>\n",
       "      <td>-72.316695</td>\n",
       "      <td>4.300000</td>\n",
       "      <td>251.000000</td>\n",
       "    </tr>\n",
       "    <tr>\n",
       "      <th>75%</th>\n",
       "      <td>304010886.0</td>\n",
       "      <td>NaN</td>\n",
       "      <td>27.769450</td>\n",
       "      <td>-61.633720</td>\n",
       "      <td>12.500000</td>\n",
       "      <td>294.000000</td>\n",
       "    </tr>\n",
       "    <tr>\n",
       "      <th>max</th>\n",
       "      <td>304010886.0</td>\n",
       "      <td>NaN</td>\n",
       "      <td>50.729294</td>\n",
       "      <td>122.636215</td>\n",
       "      <td>17.400000</td>\n",
       "      <td>359.000000</td>\n",
       "    </tr>\n",
       "  </tbody>\n",
       "</table>\n",
       "</div>"
      ],
      "text/plain": [
       "               MMSI               PERIOD           LAT           LON  \\\n",
       "count       40536.0                40536  40536.000000  40536.000000   \n",
       "unique          NaN                40536           NaN           NaN   \n",
       "top             NaN  2017-05-13 14:15:00           NaN           NaN   \n",
       "freq            NaN                    1           NaN           NaN   \n",
       "first           NaN  2016-01-08 16:50:00           NaN           NaN   \n",
       "last            NaN  2018-01-07 00:55:00           NaN           NaN   \n",
       "mean    304010886.0                  NaN     16.095483    -75.413379   \n",
       "std             0.0                  NaN      9.001522     14.165983   \n",
       "min     304010886.0                  NaN    -18.474384    -97.884820   \n",
       "25%     304010886.0                  NaN     10.406163    -94.557290   \n",
       "50%     304010886.0                  NaN     11.837763    -72.316695   \n",
       "75%     304010886.0                  NaN     27.769450    -61.633720   \n",
       "max     304010886.0                  NaN     50.729294    122.636215   \n",
       "\n",
       "         SPEED_KNOTS       COG_DEG  \n",
       "count   40536.000000  40536.000000  \n",
       "unique           NaN           NaN  \n",
       "top              NaN           NaN  \n",
       "freq             NaN           NaN  \n",
       "first            NaN           NaN  \n",
       "last             NaN           NaN  \n",
       "mean        6.247496    219.019760  \n",
       "std         6.324303     91.626598  \n",
       "min         0.000000      0.000000  \n",
       "25%         0.000000    131.000000  \n",
       "50%         4.300000    251.000000  \n",
       "75%        12.500000    294.000000  \n",
       "max        17.400000    359.000000  "
      ]
     },
     "execution_count": 4,
     "metadata": {},
     "output_type": "execute_result"
    }
   ],
   "source": [
    "df.describe(include='all')"
   ]
  },
  {
   "cell_type": "code",
   "execution_count": 5,
   "metadata": {},
   "outputs": [
    {
     "data": {
      "text/plain": [
       "<matplotlib.axes._subplots.AxesSubplot at 0x114863fd0>"
      ]
     },
     "execution_count": 5,
     "metadata": {},
     "output_type": "execute_result"
    },
    {
     "data": {
      "image/png": "[encoded data removed]",
      "text/plain": [
       "<matplotlib.figure.Figure at 0x115a45048>"
      ]
     },
     "metadata": {},
     "output_type": "display_data"
    }
   ],
   "source": [
    "#LAT Hist\n",
    "plt.figure(figsize=(10,4))\n",
    "sns.distplot(df['LAT'],kde=False,bins=100)"
   ]
  },
  {
   "cell_type": "code",
   "execution_count": 6,
   "metadata": {},
   "outputs": [
    {
     "data": {
      "text/plain": [
       "<matplotlib.axes._subplots.AxesSubplot at 0x1152dbdd8>"
      ]
     },
     "execution_count": 6,
     "metadata": {},
     "output_type": "execute_result"
    },
    {
     "data": {
      "image/png": "[encoded data removed]",
      "text/plain": [
       "<matplotlib.figure.Figure at 0x1152dbf28>"
      ]
     },
     "metadata": {},
     "output_type": "display_data"
    }
   ],
   "source": [
    "#LON Hist\n",
    "plt.figure(figsize=(10,4))\n",
    "sns.distplot(df['LON'],kde=False,bins=100)"
   ]
  },
  {
   "cell_type": "code",
   "execution_count": 7,
   "metadata": {},
   "outputs": [
    {
     "data": {
      "text/plain": [
       "<matplotlib.axes._subplots.AxesSubplot at 0x11519bba8>"
      ]
     },
     "execution_count": 7,
     "metadata": {},
     "output_type": "execute_result"
    },
    {
     "data": {
      "image/png": "[encoded data removed]",
      "text/plain": [
       "<matplotlib.figure.Figure at 0x11519b5f8>"
      ]
     },
     "metadata": {},
     "output_type": "display_data"
    }
   ],
   "source": [
    "#SPEED_KNOTs Hist\n",
    "plt.figure(figsize=(10,4))\n",
    "sns.distplot(df['SPEED_KNOTS'],kde=False,bins=50)"
   ]
  },
  {
   "cell_type": "code",
   "execution_count": 8,
   "metadata": {},
   "outputs": [
    {
     "data": {
      "text/plain": [
       "<matplotlib.axes._subplots.AxesSubplot at 0x111e6d1d0>"
      ]
     },
     "execution_count": 8,
     "metadata": {},
     "output_type": "execute_result"
    },
    {
     "data": {
      "image/png": "[encoded data removed]",
      "text/plain": [
       "<matplotlib.figure.Figure at 0x111e6d860>"
      ]
     },
     "metadata": {},
     "output_type": "display_data"
    }
   ],
   "source": [
    "#COG_DEG Hist\n",
    "plt.figure(figsize=(10,4))\n",
    "sns.distplot(df['COG_DEG'],kde=False,bins=50)"
   ]
  },
  {
   "cell_type": "markdown",
   "metadata": {},
   "source": [
    "# PRE_PROCESS"
   ]
  },
  {
   "cell_type": "code",
   "execution_count": 9,
   "metadata": {},
   "outputs": [],
   "source": [
    "#CONVERT PERIOD TO UNIX\n",
    "df['UNX'] = df['PERIOD'].astype('int64')//10**9\n",
    "df = df[['MMSI', 'PERIOD', 'UNX','LAT','LON','SPEED_KNOTS','COG_DEG']]\n",
    "df = df.drop(['PERIOD','MMSI'], axis=1)"
   ]
  },
  {
   "cell_type": "code",
   "execution_count": 10,
   "metadata": {},
   "outputs": [],
   "source": [
    "#Standardize Continuous Columns\n",
    "import scipy\n",
    "from sklearn.preprocessing import StandardScaler\n",
    "scaler = StandardScaler()\n",
    "df[['SPEED_KNOTS','COG_DEG']] = scaler.fit_transform(df[['SPEED_KNOTS','COG_DEG']])"
   ]
  },
  {
   "cell_type": "markdown",
   "metadata": {},
   "source": [
    "Lat long coordinates have a problem that they are 2 features that represent a three dimensional space. This means that the long coordinate goes all around, which means the two most extreme values are actually very close together. I've dealt with this problem a few times and what I do in this case is map them to x, y and z coordinates. This means close points in these 3 dimensions are also close in reality. Depending on the use case you can disregard the changes in height and map them to a perfect sphere. These features can then be standardized properly.\n",
    "\n",
    "x = cos(lat) * cos(lon)\n",
    "y = cos(lat) * sin(lon)\n",
    "z = sin(lat) "
   ]
  },
  {
   "cell_type": "code",
   "execution_count": 11,
   "metadata": {},
   "outputs": [],
   "source": [
    "from math import radians, cos, sin\n",
    "\n",
    "def XYZ(lon, lat):\n",
    "    \n",
    "    # convert decimal degrees to radians \n",
    "    lon, lat = map(radians, [lon, lat])\n",
    "\n",
    "    x = cos(lat) * cos(lon)\n",
    "    y = cos(lat) * sin(lon) \n",
    "    z = sin(lat)\n",
    "    \n",
    "    return x, y, z"
   ]
  },
  {
   "cell_type": "code",
   "execution_count": 12,
   "metadata": {},
   "outputs": [
    {
     "data": {
      "text/plain": [
       "(-0.04263359884808652, -0.015149906767049358, -0.9989759039006948)"
      ]
     },
     "execution_count": 12,
     "metadata": {},
     "output_type": "execute_result"
    }
   ],
   "source": [
    "XYZ(19.562738,-92.593254)"
   ]
  },
  {
   "cell_type": "code",
   "execution_count": 13,
   "metadata": {},
   "outputs": [
    {
     "data": {
      "text/html": [
       "<div>\n",
       "<style>\n",
       "    .dataframe thead tr:only-child th {\n",
       "        text-align: right;\n",
       "    }\n",
       "\n",
       "    .dataframe thead th {\n",
       "        text-align: left;\n",
       "    }\n",
       "\n",
       "    .dataframe tbody tr th {\n",
       "        vertical-align: top;\n",
       "    }\n",
       "</style>\n",
       "<table border=\"1\" class=\"dataframe\">\n",
       "  <thead>\n",
       "    <tr style=\"text-align: right;\">\n",
       "      <th></th>\n",
       "      <th>UNX</th>\n",
       "      <th>LAT</th>\n",
       "      <th>LON</th>\n",
       "      <th>SPEED_KNOTS</th>\n",
       "      <th>COG_DEG</th>\n",
       "    </tr>\n",
       "  </thead>\n",
       "  <tbody>\n",
       "    <tr>\n",
       "      <th>0</th>\n",
       "      <td>1483833900</td>\n",
       "      <td>8.708393</td>\n",
       "      <td>-59.273870</td>\n",
       "      <td>1.399777</td>\n",
       "      <td>0.872904</td>\n",
       "    </tr>\n",
       "    <tr>\n",
       "      <th>1</th>\n",
       "      <td>1483834200</td>\n",
       "      <td>8.716595</td>\n",
       "      <td>-59.287730</td>\n",
       "      <td>1.399777</td>\n",
       "      <td>0.905646</td>\n",
       "    </tr>\n",
       "    <tr>\n",
       "      <th>2</th>\n",
       "      <td>1483836000</td>\n",
       "      <td>8.778348</td>\n",
       "      <td>-59.389675</td>\n",
       "      <td>1.415589</td>\n",
       "      <td>0.872904</td>\n",
       "    </tr>\n",
       "    <tr>\n",
       "      <th>3</th>\n",
       "      <td>1483836300</td>\n",
       "      <td>8.789870</td>\n",
       "      <td>-59.407516</td>\n",
       "      <td>1.383965</td>\n",
       "      <td>0.927474</td>\n",
       "    </tr>\n",
       "    <tr>\n",
       "      <th>4</th>\n",
       "      <td>1483837800</td>\n",
       "      <td>8.857926</td>\n",
       "      <td>-59.512920</td>\n",
       "      <td>1.399777</td>\n",
       "      <td>0.894732</td>\n",
       "    </tr>\n",
       "  </tbody>\n",
       "</table>\n",
       "</div>"
      ],
      "text/plain": [
       "          UNX       LAT        LON  SPEED_KNOTS   COG_DEG\n",
       "0  1483833900  8.708393 -59.273870     1.399777  0.872904\n",
       "1  1483834200  8.716595 -59.287730     1.399777  0.905646\n",
       "2  1483836000  8.778348 -59.389675     1.415589  0.872904\n",
       "3  1483836300  8.789870 -59.407516     1.383965  0.927474\n",
       "4  1483837800  8.857926 -59.512920     1.399777  0.894732"
      ]
     },
     "execution_count": 13,
     "metadata": {},
     "output_type": "execute_result"
    }
   ],
   "source": [
    "df.head()"
   ]
  }
 ],
 "metadata": {
  "kernelspec": {
   "display_name": "Python [conda root]",
   "language": "python",
   "name": "conda-root-py"
  },
  "language_info": {
   "codemirror_mode": {
    "name": "ipython",
    "version": 3
   },
   "file_extension": ".py",
   "mimetype": "text/x-python",
   "name": "python",
   "nbconvert_exporter": "python",
   "pygments_lexer": "ipython3",
   "version": "3.6.3"
  }
 },
 "nbformat": 4,
 "nbformat_minor": 2
}
